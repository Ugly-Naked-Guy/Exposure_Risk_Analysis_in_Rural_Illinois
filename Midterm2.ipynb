{
 "cells": [
  {
   "cell_type": "code",
   "execution_count": 13,
   "id": "f822948d-eeab-458c-b051-81c3773cdb63",
   "metadata": {},
   "outputs": [],
   "source": [
    "import numpy as np\n",
    "import sklearn\n",
    "import matplotlib.pyplot as plt"
   ]
  },
  {
   "cell_type": "markdown",
   "id": "ca7ecb9c-7046-4a27-b87b-1c73743730ec",
   "metadata": {},
   "source": [
    "## 2 Deep Learning [35 points]"
   ]
  },
  {
   "cell_type": "markdown",
   "id": "bbcb0d23-ccc3-4960-a591-452200401990",
   "metadata": {},
   "source": [
    "(1) (6 pts) Compute the input and the output of units 4, 5 and 6 (i.e., I4, I5, I6, O4, O5, O6);"
   ]
  },
  {
   "cell_type": "code",
   "execution_count": 142,
   "id": "d3b9c9a8-9391-4002-ac9d-07289a7a0ab9",
   "metadata": {},
   "outputs": [],
   "source": [
    "x1, x2, x3 = 1, 0, 1 \n",
    "w14, w15, w24, w25, w34, w35, w46, w56 = 0.6, 0.3, 0.4, 0.1, -0.3, 0.2, 0.3, 0.7 \n",
    "b4, b5, b6 = -0.2, 0.3, -0.1"
   ]
  },
  {
   "cell_type": "code",
   "execution_count": 143,
   "id": "753e82bd-8efe-4e04-a645-03867b5c8696",
   "metadata": {},
   "outputs": [],
   "source": [
    "def ReLU(x):\n",
    "    return max(0, x)\n",
    "\n",
    "def dReLU(x):\n",
    "    if x > 0:\n",
    "        return 1\n",
    "    else:\n",
    "        return 0"
   ]
  },
  {
   "cell_type": "code",
   "execution_count": 144,
   "id": "951b1018-5d79-491a-aa97-828515951e0d",
   "metadata": {},
   "outputs": [],
   "source": [
    "I4 = x1*w14+x2*w24+x3*w34+b4\n",
    "I5 = x1*w15+x2*w25+x3*w35+b5\n",
    "O4 = ReLU(I4)\n",
    "O5 = ReLU(I5)\n",
    "\n",
    "I6 = O4*w46+O5*w56+b6\n",
    "O6 = ReLU(I6)"
   ]
  },
  {
   "cell_type": "code",
   "execution_count": 145,
   "id": "5eed2981-4a20-4197-a408-6dc962bff6bb",
   "metadata": {},
   "outputs": [
    {
     "name": "stdout",
     "output_type": "stream",
     "text": [
      "I4 =  0.09999999999999998\n",
      "I5 =  0.8\n",
      "O4 =  0.8\n",
      "O5 =  0.8\n",
      "I6 =  0.49\n",
      "O6 =  0.49\n"
     ]
    }
   ],
   "source": [
    "print(\"I4 = \", I4)\n",
    "print(\"I5 = \", I5)\n",
    "print(\"O4 = \", O5)\n",
    "print(\"O5 = \", O5)\n",
    "print(\"I6 = \", I6)\n",
    "print(\"O6 = \", O6)"
   ]
  },
  {
   "cell_type": "markdown",
   "id": "cf7cd93b-f863-4a83-9d82-2747353f0c6a",
   "metadata": {},
   "source": [
    "(2) (3 pts) Compute the error of units 4, 5 and 6 (i.e., δ4, δ5, δ6)"
   ]
  },
  {
   "cell_type": "markdown",
   "id": "09c86005-8157-4687-821a-c7de1073cf1f",
   "metadata": {},
   "source": [
    "$δ_4 = \\frac{\\partial L}{\\partial I_4}$\n",
    "\n",
    "$=\\frac{\\partial L}{\\partial O_6} \\cdot \n",
    "\\frac{\\partial O_6}{\\partial I_6} \\cdot \\frac{\\partial I_6}{\\partial O_4} \\cdot \\frac{\\partial O_4}{\\partial I_4}$\n",
    "\n",
    "$=δ_6 \\cdot dReLU(O_6) \\cdot w_{46} \\cdot dReLU(O_4)$"
   ]
  },
  {
   "cell_type": "code",
   "execution_count": 35,
   "id": "3ff1e622-102e-4d85-8aad-5735254f9229",
   "metadata": {},
   "outputs": [],
   "source": [
    "T = 0\n",
    "delta6 = 1/2*(O6-T)**2\n",
    "delta4 = delta6 * dReLU(O6) * w46 * dReLU(O4)\n",
    "delta4 = delta6 * dReLU(O6) * w56 * dReLU(O5)"
   ]
  },
  {
   "cell_type": "code",
   "execution_count": 36,
   "id": "4191518a-92c6-41d6-94d2-4fa0b4f95180",
   "metadata": {},
   "outputs": [
    {
     "name": "stdout",
     "output_type": "stream",
     "text": [
      "delta4 =  0.08403499999999998\n",
      "delta6 =  0.12004999999999999\n",
      "delta4 =  0.08403499999999998\n"
     ]
    }
   ],
   "source": [
    "print(\"delta4 = \", delta4)\n",
    "print(\"delta6 = \", delta6)\n",
    "print(\"delta4 = \", delta4)"
   ]
  },
  {
   "cell_type": "markdown",
   "id": "273955bd-17a2-4458-b272-f720d5449007",
   "metadata": {},
   "source": [
    "(3) (2 pts) Let the learning rate η = 0.1, compute the new weights, w15 and w46, after\n",
    "one-step update."
   ]
  },
  {
   "cell_type": "markdown",
   "id": "51a67c7a-c5ef-473c-bbf8-da4aeb4a89d1",
   "metadata": {},
   "source": [
    "$w_{ij} = w_{ij} -η \\cdot δ_j O_i$\n",
    "\n",
    "$δ_1 = δ_4 w_{14}$\n",
    "\n",
    "$w_{15} = w_{15} -η \\cdot δ_1 O_5$\n",
    "\n",
    "$w_{46} = w_{46} -η \\cdot δ_4 O_6$"
   ]
  },
  {
   "cell_type": "code",
   "execution_count": 37,
   "id": "35f55210-b291-42d4-82a1-8b776656e7dd",
   "metadata": {},
   "outputs": [],
   "source": [
    "delta1 = delta4 * w14 \n",
    "w15 -= 0.1 * delta1 * O5\n",
    "w46 -= 0.1 * delta4 * O6\n"
   ]
  },
  {
   "cell_type": "code",
   "execution_count": 38,
   "id": "3fd3fe50-bc82-48d4-a4d9-fbaec10a57f9",
   "metadata": {},
   "outputs": [
    {
     "name": "stdout",
     "output_type": "stream",
     "text": [
      "w15 =  0.29596632\n",
      "w46 =  0.29588228499999997\n"
     ]
    }
   ],
   "source": [
    "print(\"w15 = \", w15)\n",
    "print(\"w46 = \", w46)"
   ]
  },
  {
   "cell_type": "code",
   "execution_count": null,
   "id": "54af3b7e-6cdf-4cd7-ba3a-a9db5c2de893",
   "metadata": {},
   "outputs": [],
   "source": []
  },
  {
   "cell_type": "code",
   "execution_count": null,
   "id": "2b2eb531-ffe4-4747-926c-a0eea0865862",
   "metadata": {},
   "outputs": [],
   "source": []
  },
  {
   "cell_type": "markdown",
   "id": "9effa085-741e-4b41-a827-014f2d50ce3e",
   "metadata": {},
   "source": [
    "## 3 Anomaly & Outlier Detection [15 points]"
   ]
  },
  {
   "cell_type": "markdown",
   "id": "377ca92c-85ed-470b-94e3-0515dca130dc",
   "metadata": {},
   "source": [
    "### (a) (4 pts)"
   ]
  },
  {
   "cell_type": "code",
   "execution_count": 146,
   "id": "49418e88-d541-4ad8-8f3a-92dcb6b9461b",
   "metadata": {},
   "outputs": [],
   "source": [
    "import numpy as np\n",
    "X = np.array([16.7, 16.1, 16.8, 16.9, 11.8, 16.9, 16.6, 16.8, 17.6, 16.3, 17.2])"
   ]
  },
  {
   "cell_type": "code",
   "execution_count": 148,
   "id": "10bb34b7-bf26-42ae-b223-f09664cf1d05",
   "metadata": {},
   "outputs": [
    {
     "data": {
      "text/plain": [
       "array([0.24493367, 0.15920688, 0.31229042, 0.37964718, 3.05554749,\n",
       "       0.37964718, 0.17757691, 0.31229042, 0.85114449, 0.02449337,\n",
       "       0.58171746])"
      ]
     },
     "execution_count": 148,
     "metadata": {},
     "output_type": "execute_result"
    }
   ],
   "source": [
    "mu = np.mean(X)\n",
    "sigma = np.std(X)\n",
    "z = abs(X - mu)/sigma\n",
    "z"
   ]
  },
  {
   "cell_type": "markdown",
   "id": "3250f8e9-9341-4962-a22f-6537e5f3bee9",
   "metadata": {},
   "source": [
    "### (b) "
   ]
  },
  {
   "cell_type": "code",
   "execution_count": 43,
   "id": "6c06309d-cf83-420a-a7aa-c372ec1bbe89",
   "metadata": {},
   "outputs": [],
   "source": [
    "data = {}\n",
    "data['A'] = np.array([1, 3])\n",
    "data['B'] = np.array([3, 3])\n",
    "data['C'] = np.array([2, 2])\n",
    "data['D'] = np.array([1, 1])\n",
    "data['E'] = np.array([4, 1])\n",
    "data['F'] = np.array([2, -2]) \n",
    "data['G'] = np.array([-2, 1])\n",
    "\n",
    "X = []\n",
    "for item in data:\n",
    "    X.append(list(data[item]))\n",
    "X = np.array(X)"
   ]
  },
  {
   "cell_type": "code",
   "execution_count": null,
   "id": "4fa0b64d-486b-491e-a03f-3c2c8cf0d829",
   "metadata": {},
   "outputs": [],
   "source": []
  },
  {
   "cell_type": "code",
   "execution_count": 55,
   "id": "c0a99535-998c-4a72-a448-3613001ef3e9",
   "metadata": {},
   "outputs": [],
   "source": [
    "def clacLrd(target, k):\n",
    "    dist_dict = {}\n",
    "    for item in data:\n",
    "        dist = np.sum((data[target] - data[item])**2)\n",
    "        dist_dict[item] = dist\n",
    "\n",
    "    dist_k = sorted(dist_dict.values())[k]\n",
    "\n",
    "    Nk = 0\n",
    "    sum_of_reachdist = 0\n",
    "    neighbor = []\n",
    "    for item in dist_dict:\n",
    "        if dist_dict[item] <= dist_k and dist_dict[item] != 0:\n",
    "            Nk += 1\n",
    "            dist_dict[item] = dist_k\n",
    "            sum_of_reachdist += dist_dict[item]\n",
    "\n",
    "    lrd = Nk/sum_of_reachdist   \n",
    "    return lrd"
   ]
  },
  {
   "cell_type": "code",
   "execution_count": 58,
   "id": "89ece12a-12c1-468a-8a68-b95116a58c15",
   "metadata": {},
   "outputs": [],
   "source": [
    "def clacLOF(target, k): \n",
    "    dist_dict = {}\n",
    "    for item in data:\n",
    "        dist = np.sum((data[target] - data[item])**2)\n",
    "        dist_dict[item] = dist\n",
    "\n",
    "    dist_k = sorted(dist_dict.values())[3]\n",
    "\n",
    "    Nk = 0\n",
    "    sum_of_reachdist = 0\n",
    "    neighbor_list = [] #\n",
    "    for item in dist_dict:\n",
    "        if dist_dict[item] <= dist_k and dist_dict[item] != 0:\n",
    "            Nk += 1\n",
    "            dist_dict[item] = dist_k\n",
    "            sum_of_reachdist += dist_dict[item]\n",
    "            neighbor_list.append(item) #\n",
    "\n",
    "    lrd = Nk/sum_of_reachdist \n",
    "\n",
    "    sum_of_lrd_nu = 0 \n",
    "    for neighbor in neighbor_list:\n",
    "        lrd_nu = clacLrd(neighbor, k=3)/clacLrd(target, k=3)\n",
    "        sum_of_lrd_nu += lrd_nu\n",
    "\n",
    "    LOF = sum_of_lrd_nu/Nk\n",
    "    return LOF"
   ]
  },
  {
   "cell_type": "code",
   "execution_count": 65,
   "id": "736eba34-6505-45ac-bc31-c2236169665a",
   "metadata": {},
   "outputs": [
    {
     "name": "stdout",
     "output_type": "stream",
     "text": [
      "Lrd of B = 0.2\n",
      "Lrd of F = 0.0625\n",
      "LOF of A = 1.0999999999999999\n",
      "LOF of F = 3.925925925925926\n"
     ]
    }
   ],
   "source": [
    "print('Lrd of B =', clacLrd('B', k=3))\n",
    "print('Lrd of F =', clacLrd('F', k=3))\n",
    "print('LOF of A =', clacLOF('A', k=3))\n",
    "print('LOF of F =', clacLOF('F', k=3))"
   ]
  },
  {
   "cell_type": "code",
   "execution_count": 70,
   "id": "cc5f4785-9a12-434e-bca8-1c1402776972",
   "metadata": {},
   "outputs": [
    {
     "name": "stdout",
     "output_type": "stream",
     "text": [
      "The LOF of A = 1.0999999999999999\n",
      "The LOF of B = 1.4351851851851851\n",
      "The LOF of C = 0.3833333333333333\n",
      "The LOF of D = 2.533333333333333\n",
      "The LOF of E = 2.475\n",
      "The LOF of F = 3.925925925925926\n",
      "The LOF of G = 4.958333333333333\n"
     ]
    }
   ],
   "source": [
    "for letter in data:\n",
    "    print('The LOF of', letter, '=', clacLOF(letter, k=3))"
   ]
  },
  {
   "cell_type": "code",
   "execution_count": 187,
   "id": "23de4957-aaf9-4194-af64-7b26e382103c",
   "metadata": {},
   "outputs": [],
   "source": [
    "def clacLOF(target, k):\n",
    "    dist_dict = {}\n",
    "    for item in data:\n",
    "        dist = np.sum((data[target] - data[item])**2)\n",
    "        dist_dict[item] = dist\n",
    "\n",
    "    dist_k = sorted(dist_dict.values())[3]\n",
    "\n",
    "    Nk = 0\n",
    "    sum_of_reachdist = 0\n",
    "    neighbor_list = [] #\n",
    "    for item in dist_dict:\n",
    "        if dist_dict[item] <= dist_k and dist_dict[item] != 0:\n",
    "            Nk += 1\n",
    "            dist_dict[item] = dist_k\n",
    "            sum_of_reachdist += dist_dict[item]\n",
    "            neighbor_list.append(item) #\n",
    "\n",
    "    lrd = Nk/sum_of_reachdist \n",
    "\n",
    "    sum_of_lrd = 0 \n",
    "    for neighbor in neighbor_list:\n",
    "        lrd = clacLrd(neighbor, k=3)\n",
    "        sum_of_lrd += lrd\n",
    "\n",
    "    LOF = sum_of_reachdist * sum_of_lrd\n",
    "    return LOF"
   ]
  },
  {
   "cell_type": "code",
   "execution_count": 188,
   "id": "65ac46b4-7809-4436-83f4-d0650f5f6191",
   "metadata": {},
   "outputs": [
    {
     "name": "stdout",
     "output_type": "stream",
     "text": [
      "Lrd of B = 0.2\n",
      "Lrd of F = 0.0625\n",
      "LOF of A = 9.899999999999999\n",
      "LOF of F = 35.333333333333336\n"
     ]
    }
   ],
   "source": [
    "print('Lrd of B =', clacLrd('B', k=3))\n",
    "print('Lrd of F =', clacLrd('F', k=3))\n",
    "print('LOF of A =', clacLOF('A', k=3))\n",
    "print('LOF of F =', clacLOF('F', k=3))"
   ]
  },
  {
   "cell_type": "code",
   "execution_count": 72,
   "id": "13f6be12-a84c-41b5-bd88-e6175d7cce60",
   "metadata": {},
   "outputs": [
    {
     "name": "stdout",
     "output_type": "stream",
     "text": [
      "1.0999999999999999\n",
      "1.4351851851851851\n",
      "0.3833333333333333\n",
      "2.533333333333333\n",
      "2.475\n",
      "3.925925925925926\n",
      "4.958333333333333\n"
     ]
    },
    {
     "data": {
      "image/png": "[encoded data removed]",
      "text/plain": [
       "<Figure size 432x288 with 1 Axes>"
      ]
     },
     "metadata": {
      "needs_background": "light"
     },
     "output_type": "display_data"
    }
   ],
   "source": [
    "for letter in data:\n",
    "    print(clacLOF(letter, k=3))\n",
    "\n",
    "y = [1,1,1,1,1, -1, -1]\n",
    "plt.scatter(X[:,0],X[:,1],c=y)\n",
    "plt.show()"
   ]
  },
  {
   "cell_type": "markdown",
   "id": "2ef33f72-eb95-4f78-a846-229b26a3820c",
   "metadata": {},
   "source": [
    "## 4 Graph Connectivity Optimization [20 points]"
   ]
  },
  {
   "cell_type": "markdown",
   "id": "6e104c1a-2dc8-4fd6-bc8d-e165acb254fa",
   "metadata": {},
   "source": [
    "### (a)"
   ]
  },
  {
   "cell_type": "code",
   "execution_count": 117,
   "id": "5da747b6-1450-482e-b6ea-9fa2b11b4628",
   "metadata": {},
   "outputs": [],
   "source": [
    "beta = 0.2\n",
    "sigma = 0.1\n",
    "n = 5\n",
    "p0 = np.array([0.5] * n)"
   ]
  },
  {
   "cell_type": "code",
   "execution_count": 118,
   "id": "3a5bfcaf-c65d-4ce4-9f20-952446a2dfa1",
   "metadata": {},
   "outputs": [],
   "source": [
    "neighbor_dict = {\n",
    "    0: [1, 4],\n",
    "    1: [0, 3, 4],\n",
    "    2: [3, 4],\n",
    "    3: [1, 2, 4],\n",
    "    4: [0, 1, 2, 3]\n",
    "}"
   ]
  },
  {
   "cell_type": "code",
   "execution_count": 110,
   "id": "e83a2260-cc4b-42e7-ac92-f9e5ea49b702",
   "metadata": {},
   "outputs": [],
   "source": [
    "non_infection_prob = np.array([0.00] * n)\n",
    "\n",
    "for node in neighbor_dict:\n",
    "    neighbor_idx = neighbor_dict[node]\n",
    "    non_infection_prob[node] = np.prod(p0[neighbor_idx]*(1-beta) + (1-p0[neighbor_idx]))"
   ]
  },
  {
   "cell_type": "code",
   "execution_count": 111,
   "id": "341d1abf-b763-4cbc-9dcc-b5e0f5f83463",
   "metadata": {},
   "outputs": [
    {
     "data": {
      "text/plain": [
       "array([0.81  , 0.729 , 0.81  , 0.729 , 0.6561])"
      ]
     },
     "execution_count": 111,
     "metadata": {},
     "output_type": "execute_result"
    }
   ],
   "source": [
    "non_infection_prob"
   ]
  },
  {
   "cell_type": "code",
   "execution_count": 112,
   "id": "15a20560-fa85-4f1b-bab2-054019ef7a70",
   "metadata": {},
   "outputs": [],
   "source": [
    "p1 = 1 - (sigma * p0 + (1 - p0) * non_infection_prob)"
   ]
  },
  {
   "cell_type": "code",
   "execution_count": 113,
   "id": "51ab96fc-dfdb-4b4c-9f61-21f008b091e8",
   "metadata": {},
   "outputs": [
    {
     "data": {
      "text/plain": [
       "array([0.545  , 0.5855 , 0.545  , 0.5855 , 0.62195])"
      ]
     },
     "execution_count": 113,
     "metadata": {},
     "output_type": "execute_result"
    }
   ],
   "source": [
    "p1"
   ]
  },
  {
   "cell_type": "markdown",
   "id": "5200c126-7e11-4533-b00d-8a305c7272f4",
   "metadata": {},
   "source": [
    "### (b) "
   ]
  },
  {
   "cell_type": "code",
   "execution_count": 116,
   "id": "5cf7829e-fcf3-41ce-83cf-cb1d7e350cfa",
   "metadata": {},
   "outputs": [
    {
     "data": {
      "text/plain": [
       "0.5765899999999999"
      ]
     },
     "execution_count": 116,
     "metadata": {},
     "output_type": "execute_result"
    }
   ],
   "source": [
    "avg_infec_prob = np.mean(p1)\n",
    "avg_infec_prob"
   ]
  },
  {
   "cell_type": "code",
   "execution_count": null,
   "id": "1ab2dfc1-8281-4fe1-8b75-8433273d0118",
   "metadata": {},
   "outputs": [],
   "source": []
  },
  {
   "cell_type": "code",
   "execution_count": 134,
   "id": "1941ab82-f90e-4f64-990e-072e28b64468",
   "metadata": {},
   "outputs": [],
   "source": [
    "def getP1AfterVaccine(neighbor_dict):\n",
    "    n = 5\n",
    "    p0 = np.array([0.5] * n)\n",
    "    non_infection_prob = np.array([np.nan] * n)\n",
    "\n",
    "    for node in neighbor_dict:\n",
    "        neighbor_idx = neighbor_dict[node]\n",
    "        non_infection_prob[node] = np.prod(p0[neighbor_idx]*(1-beta) + (1-p0[neighbor_idx]))\n",
    "\n",
    "    p1 = 1 - (sigma * p0 + (1 - p0) * non_infection_prob)\n",
    "    avg_infec_prob = np.nanmean(p1)\n",
    "    return(avg_infec_prob)"
   ]
  },
  {
   "cell_type": "code",
   "execution_count": 135,
   "id": "80d53507-6b5b-4782-9eb5-e42261cb0abb",
   "metadata": {},
   "outputs": [
    {
     "data": {
      "text/plain": [
       "0.5652499999999999"
      ]
     },
     "execution_count": 135,
     "metadata": {},
     "output_type": "execute_result"
    }
   ],
   "source": [
    "neighbor_dict0 = {\n",
    "    1: [3, 4],\n",
    "    2: [3, 4],\n",
    "    3: [1, 2, 4],\n",
    "    4: [1, 2, 3]\n",
    "}\n",
    "getP1AfterVaccine(neighbor_dict0)"
   ]
  },
  {
   "cell_type": "code",
   "execution_count": 136,
   "id": "1151d5b5-24b1-403e-91a0-3ccb939f0c0e",
   "metadata": {},
   "outputs": [
    {
     "data": {
      "text/plain": [
       "0.5438749999999999"
      ]
     },
     "execution_count": 136,
     "metadata": {},
     "output_type": "execute_result"
    }
   ],
   "source": [
    "neighbor_dict1 = {\n",
    "    0: [4],\n",
    "    2: [3, 4],\n",
    "    3: [2, 4],\n",
    "    4: [0, 2, 3]\n",
    "}\n",
    "getP1AfterVaccine(neighbor_dict1)"
   ]
  },
  {
   "cell_type": "code",
   "execution_count": 137,
   "id": "839dfa56-ec59-4f5d-abcf-6944672ede4d",
   "metadata": {},
   "outputs": [
    {
     "data": {
      "text/plain": [
       "0.5652499999999999"
      ]
     },
     "execution_count": 137,
     "metadata": {},
     "output_type": "execute_result"
    }
   ],
   "source": [
    "neighbor_dict2 = {\n",
    "    0: [1, 4],\n",
    "    1: [0, 3, 4],\n",
    "    3: [1, 4],\n",
    "    4: [0, 1, 3]\n",
    "}\n",
    "getP1AfterVaccine(neighbor_dict2)"
   ]
  },
  {
   "cell_type": "code",
   "execution_count": 138,
   "id": "46cb31e7-fc46-45c6-b9bb-15472d30ed15",
   "metadata": {},
   "outputs": [
    {
     "data": {
      "text/plain": [
       "0.5438749999999999"
      ]
     },
     "execution_count": 138,
     "metadata": {},
     "output_type": "execute_result"
    }
   ],
   "source": [
    "neighbor_dict3 = {\n",
    "    0: [1, 4],\n",
    "    1: [0, 4],\n",
    "    2: [4],\n",
    "    4: [0, 1, 2]\n",
    "}\n",
    "getP1AfterVaccine(neighbor_dict3)"
   ]
  },
  {
   "cell_type": "code",
   "execution_count": 139,
   "id": "adca9266-1c3d-4a1a-8494-a5de25f95e6e",
   "metadata": {},
   "outputs": [
    {
     "data": {
      "text/plain": [
       "0.5225"
      ]
     },
     "execution_count": 139,
     "metadata": {},
     "output_type": "execute_result"
    }
   ],
   "source": [
    "neighbor_dict4 = {\n",
    "    0: [1],\n",
    "    1: [0, 3],\n",
    "    2: [3],\n",
    "    3: [1, 2],\n",
    "}\n",
    "getP1AfterVaccine(neighbor_dict4)"
   ]
  },
  {
   "cell_type": "markdown",
   "id": "0ee1aefb-ed4a-4f27-adc5-6cce3e7feafa",
   "metadata": {},
   "source": [
    "## 5 Network Alignment [20 points]"
   ]
  },
  {
   "cell_type": "code",
   "execution_count": null,
   "id": "14389760-c774-43be-8e7d-ac8d42efaf71",
   "metadata": {},
   "outputs": [],
   "source": []
  }
 ],
 "metadata": {
  "kernelspec": {
   "display_name": "Python 3",
   "language": "python",
   "name": "python3"
  },
  "language_info": {
   "codemirror_mode": {
    "name": "ipython",
    "version": 3
   },
   "file_extension": ".py",
   "mimetype": "text/x-python",
   "name": "python",
   "nbconvert_exporter": "python",
   "pygments_lexer": "ipython3",
   "version": "3.7.7"
  }
 },
 "nbformat": 4,
 "nbformat_minor": 5
}
