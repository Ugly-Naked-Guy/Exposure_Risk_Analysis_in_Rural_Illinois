{
 "cells": [
  {
   "cell_type": "code",
   "execution_count": 70,
   "id": "c1d45109-72e1-4a71-978a-1587099f6544",
   "metadata": {},
   "outputs": [],
   "source": [
    "def interpolate(n, instances, price):\n",
    "    # Write your code here\n",
    "    if n in instances:\n",
    "        idx = instances.index(n)\n",
    "        return str(price[idx])\n",
    "    if len(instances) == 1:\n",
    "        return str(price[0])\n",
    "    \n",
    "    if n < instances[0]:\n",
    "        p0, p1 = price[0], price[1]\n",
    "        i0, i1 = instances[0], instances[1]  \n",
    "    if n > instances[-1]:\n",
    "        p0, p1 = price[-2], price[-1]\n",
    "        i0, i1 = instances[-2], instances[-1] \n",
    "     \n",
    "    i = 0\n",
    "    while instances[i] < n:\n",
    "        i = i+1\n",
    "    p0, p1 = price[i-1], price[i]\n",
    "    i0, i1 = instances[i-1], instances[i]  \n",
    "\n",
    "    return '%.2f'%round((p0*(n-i1)-p1*(n-i0))/(i0-i1),2)\n",
    "    \n"
   ]
  },
  {
   "cell_type": "code",
   "execution_count": 71,
   "id": "893298e3-2bcc-4313-bac1-eb46bad41fba",
   "metadata": {},
   "outputs": [
    {
     "data": {
      "text/plain": [
       "'2.46'"
      ]
     },
     "execution_count": 71,
     "metadata": {},
     "output_type": "execute_result"
    }
   ],
   "source": [
    "n = 30\n",
    "instances = [10, 25, 50, 100, 500]\n",
    "price = [2.46, 2.58, 2.0, 2.25, 3.0]\n",
    "interpolate(n, instances, price)"
   ]
  },
  {
   "cell_type": "code",
   "execution_count": 72,
   "id": "4ef0afa3-993e-48fd-a96f-0c5d9c273b0b",
   "metadata": {},
   "outputs": [
    {
     "data": {
      "text/plain": [
       "'-0.89'"
      ]
     },
     "execution_count": 72,
     "metadata": {},
     "output_type": "execute_result"
    }
   ],
   "source": [
    "n = 2\n",
    "instances = [10, 25, 50, 100, 500]\n",
    "price = [0,0,0,0,54.25]\n",
    "interpolate(n, instances, price)"
   ]
  },
  {
   "cell_type": "code",
   "execution_count": null,
   "id": "6d7211c3-7133-49a0-97d5-eda7034b736a",
   "metadata": {},
   "outputs": [],
   "source": []
  },
  {
   "cell_type": "code",
   "execution_count": 73,
   "id": "050ea0fb-5484-4b60-bdb9-a45ea1aec013",
   "metadata": {},
   "outputs": [
    {
     "data": {
      "text/plain": [
       "'19.20'"
      ]
     },
     "execution_count": 73,
     "metadata": {},
     "output_type": "execute_result"
    }
   ],
   "source": [
    "'%.2f'%19.2"
   ]
  },
  {
   "cell_type": "code",
   "execution_count": null,
   "id": "9a44981f-1f7f-462a-95f6-181d0b060d07",
   "metadata": {},
   "outputs": [],
   "source": []
  }
 ],
 "metadata": {
  "kernelspec": {
   "display_name": "Python 3 (ipykernel)",
   "language": "python",
   "name": "python3"
  },
  "language_info": {
   "codemirror_mode": {
    "name": "ipython",
    "version": 3
   },
   "file_extension": ".py",
   "mimetype": "text/x-python",
   "name": "python",
   "nbconvert_exporter": "python",
   "pygments_lexer": "ipython3",
   "version": "3.9.7"
  }
 },
 "nbformat": 4,
 "nbformat_minor": 5
}
