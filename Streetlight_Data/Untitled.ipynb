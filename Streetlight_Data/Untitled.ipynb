{
 "cells": [
  {
   "cell_type": "code",
   "execution_count": null,
   "metadata": {},
   "outputs": [],
   "source": [
    "# read the street light data\n",
    "streetlight_trips_p4 = pd.read_csv(\"/Users/zhangyuqi/Documents/NCSA/Exposure_Risk_Analysis_in Rural_Illinois/Streetlight_Data/streetlight_trips_p4.csv\")[['Origin.ID', 'Destination.ID', 'Traffic.V']]\n",
    "# street light data \n",
    "# origin -> destination (county level) frequency dictionary\n",
    "sl4_od_dict = defaultdict(defaultdict_int)\n",
    "num_ct = streetlight_trips_p4.shape[0]\n",
    "for i in range(num_ct):\n",
    "    fip_o = int(streetlight_trips_p4.iloc[i,0])\n",
    "    fip_d = int(streetlight_trips_p4.iloc[i,1])\n",
    "    sl4_od_dict[fip_o][fip_d] += streetlight_trips_p4.iloc[i,2]\n",
    "    \n",
    "# Update the number of trips in anually aggregated data according to the number of trips in street light data\n",
    "slod4_trips_df = od_trips_df.copy(deep=True)\n",
    "num_ct = od_trips_df.shape[0]\n",
    "for i in range(num_ct):\n",
    "    fip_o = int(od_trips_df.iloc[i,0]/10e5-17000)\n",
    "    fip_d = int(od_trips_df.iloc[i,1]/10e5-17000)\n",
    "    if od_od_dict[fip_o][fip_d] == 0:# if the denorminator is 0\n",
    "        multiplier = 0\n",
    "    else:\n",
    "        multiplier = sl4_od_dict[fip_o][fip_d]/od_od_dict[fip_o][fip_d]\n",
    "    slod4_trips_df.iloc[i,2] = multiplier*od_trips_df.iloc[i,2]\n",
    "\n",
    "slod4_trips_df.to_csv(\"Streetlight_Data/clean_data/streetlight_OD_p4.csv\")"
   ]
  }
 ],
 "metadata": {
  "kernelspec": {
   "display_name": "Python 3",
   "language": "python",
   "name": "python3"
  },
  "language_info": {
   "codemirror_mode": {
    "name": "ipython",
    "version": 3
   },
   "file_extension": ".py",
   "mimetype": "text/x-python",
   "name": "python",
   "nbconvert_exporter": "python",
   "pygments_lexer": "ipython3",
   "version": "3.7.7"
  }
 },
 "nbformat": 4,
 "nbformat_minor": 4
}
