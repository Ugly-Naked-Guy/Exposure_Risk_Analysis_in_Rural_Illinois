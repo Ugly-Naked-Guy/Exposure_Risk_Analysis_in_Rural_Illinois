{
 "cells": [
  {
   "cell_type": "code",
   "execution_count": null,
   "metadata": {},
   "outputs": [],
   "source": []
  },
  {
   "cell_type": "code",
   "execution_count": null,
   "metadata": {},
   "outputs": [],
   "source": [
    "tracts = pd.read_csv('risk_flow_data/tracts_4.csv')"
   ]
  },
  {
   "cell_type": "code",
   "execution_count": null,
   "metadata": {},
   "outputs": [],
   "source": [
    "def toRiskFlowMatrix(input_path, output_path, cases_num_idx):\n",
    "    # this dataset is for the nested hashmap\n",
    "    OD_streetlight_df = pd.read_csv('risk_flow_data/origin_dest_trips_census_tract_level.csv')\n",
    "    origins = OD_streetlight_df.loc[:,'RESIDENCE'].unique().tolist()\n",
    "    # rename the origin-> destination df\n",
    "    OD = OD_streetlight_df \n",
    "    # initial i to 0, mRes to an ampty map\n",
    "    i = 0; mRes = {}\n",
    "    # loop through all the origins \n",
    "    for origin in origins:\n",
    "        mWork = {}\n",
    "        # for each origins, loop through all the destinations\n",
    "        while i < OD.shape[0] and OD.iloc[i,0] == origin: \n",
    "            workplace = OD.iloc[i,1]\n",
    "            jobs = OD.iloc[i,2]\n",
    "            mWork[workplace] = jobs\n",
    "            i += 1\n",
    "        mRes[origin] = mWork\n",
    "    \n",
    "    # populate rest of the rows\n",
    "    risk_flow_matrix = []\n",
    "    num_geoID = tracts.shape[0]\n",
    "    for i in range(num_geoID):\n",
    "        row = [] # each row in the risk flow matrix\n",
    "        cases_at_i = tracts.iloc[i, 5]    # case number at i\n",
    "        origin_at_i = tracts.iloc[i, 0] # residence\n",
    "        m_work = mRes.get(origin_at_i, {}) # returns the value for the specified key or {} \n",
    "        for j in range(num_geoID):       # for each dest at j\n",
    "            dest_at_j = tracts.iloc[j, 0]    # geoid at dest j\n",
    "            trips = 0\n",
    "            if len(m_work) != 0:\n",
    "                trips = m_work.get(dest_at_j, 0)\n",
    "            row.append((cases_at_i * trips/total_risk_flow))\n",
    "        risk_flow_matrix.append(row)\n",
    "    #convert to datdframe\n",
    "    risk_flow_matrix_df = pd.DataFrame(risk_flow_matrix, index = tracts.loc[:,'GEOID'], columns = tracts.loc[:, 'GEOID'])\n",
    "    # export the matrix to an excel file\n",
    "    risk_flow_matrix_df.to_csv('risk_flow_matrix.csv')"
   ]
  },
  {
   "cell_type": "code",
   "execution_count": 1,
   "metadata": {},
   "outputs": [
    {
     "ename": "NameError",
     "evalue": "name 'pd' is not defined",
     "output_type": "error",
     "traceback": [
      "\u001b[0;31m---------------------------------------------------------------------------\u001b[0m",
      "\u001b[0;31mNameError\u001b[0m                                 Traceback (most recent call last)",
      "\u001b[0;32m<ipython-input-1-7400f216801a>\u001b[0m in \u001b[0;36m<module>\u001b[0;34m\u001b[0m\n\u001b[1;32m      1\u001b[0m \u001b[0;31m# this dataset is for the nested hashmap\u001b[0m\u001b[0;34m\u001b[0m\u001b[0;34m\u001b[0m\u001b[0;34m\u001b[0m\u001b[0m\n\u001b[0;32m----> 2\u001b[0;31m \u001b[0mOD_streetlight_df\u001b[0m \u001b[0;34m=\u001b[0m \u001b[0mpd\u001b[0m\u001b[0;34m.\u001b[0m\u001b[0mread_csv\u001b[0m\u001b[0;34m(\u001b[0m\u001b[0;34m\"Streetlight_Data/clean_data/streetlight_OD_p1.csv\"\u001b[0m\u001b[0;34m)\u001b[0m\u001b[0;34m\u001b[0m\u001b[0;34m\u001b[0m\u001b[0m\n\u001b[0m",
      "\u001b[0;31mNameError\u001b[0m: name 'pd' is not defined"
     ]
    }
   ],
   "source": [
    "toRiskFlowMatrix(input_path, output_path, cases_num_idx):\n",
    "'risk_flow_data/origin_dest_trips_census_tract_level.csv'\n",
    "'risk_flow_matrix.csv'\n",
    "\n"
   ]
  },
  {
   "cell_type": "code",
   "execution_count": null,
   "metadata": {},
   "outputs": [],
   "source": []
  }
 ],
 "metadata": {
  "kernelspec": {
   "display_name": "Python 3",
   "language": "python",
   "name": "python3"
  },
  "language_info": {
   "codemirror_mode": {
    "name": "ipython",
    "version": 3
   },
   "file_extension": ".py",
   "mimetype": "text/x-python",
   "name": "python",
   "nbconvert_exporter": "python",
   "pygments_lexer": "ipython3",
   "version": "3.7.7"
  }
 },
 "nbformat": 4,
 "nbformat_minor": 4
}
