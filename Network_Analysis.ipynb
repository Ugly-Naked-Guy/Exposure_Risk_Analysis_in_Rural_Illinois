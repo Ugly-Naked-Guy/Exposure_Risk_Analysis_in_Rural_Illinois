{
 "cells": [
  {
   "cell_type": "code",
   "execution_count": 6,
   "id": "9e810e22-64fd-4d5a-9ada-e7471a1455ee",
   "metadata": {},
   "outputs": [],
   "source": [
    "import networkx as nx\n",
    "# import community\n",
    "# from networkx.algorithms.community.modularity_max import greedy_modularity_communities\n",
    "import numpy as np\n",
    "import pandas as pd"
   ]
  },
  {
   "cell_type": "code",
   "execution_count": 7,
   "id": "e4bcb7f2-e663-47f2-a96d-99e88a8aea34",
   "metadata": {},
   "outputs": [],
   "source": [
    "def getRiskNetwork(path):\n",
    "    riskflow = pd.read_csv(path)\n",
    "    RiskNetwork = nx.DiGraph()\n",
    "\n",
    "    for i in range(riskflow.shape[0]):\n",
    "        start = riskflow[\"START\"][i]\n",
    "        end = riskflow[\"END\"][i]\n",
    "        edge = riskflow[\"RISK_FLOW\"][i]\n",
    "        RiskNetwork.add_edge(start, end, weight=edge)\n",
    "    return RiskNetwork"
   ]
  },
  {
   "cell_type": "code",
   "execution_count": 17,
   "id": "03a8d80d-c363-40d7-94fc-558097aa963c",
   "metadata": {},
   "outputs": [],
   "source": [
    "RiskNetwork1 = getRiskNetwork('Streetlight_Data/clean_data/unnorm/unor_riskflow1_df.csv')\n",
    "RiskNetwork2 = getRiskNetwork('Streetlight_Data/clean_data/unnorm/unor_riskflow2_df.csv')\n",
    "RiskNetwork3 = getRiskNetwork('Streetlight_Data/clean_data/unnorm/unor_riskflow3_df.csv')\n",
    "RiskNetwork4 = getRiskNetwork('Streetlight_Data/clean_data/unnorm/unor_riskflow4_df.csv')"
   ]
  },
  {
   "cell_type": "code",
   "execution_count": 18,
   "id": "f7edec3e-f98d-4126-aac7-655fb80a4123",
   "metadata": {},
   "outputs": [
    {
     "data": {
      "text/plain": [
       "[(17071973500, 1.0),\n",
       " (17085020200, 1.0),\n",
       " (17171970700, 1.0),\n",
       " (17031730300, 0.9166666666666666),\n",
       " (17001010300, 0.9144736842105263),\n",
       " (17161023500, 0.8095238095238095),\n",
       " (17143001900, 0.8018867924528302),\n",
       " (17027900401, 0.8),\n",
       " (17001000202, 0.7947761194029851),\n",
       " (17113001301, 0.7781456953642384)]"
      ]
     },
     "execution_count": 18,
     "metadata": {},
     "output_type": "execute_result"
    }
   ],
   "source": [
    "sorted(nx.clustering(RiskNetwork2).items(),key = lambda x:x[1], reverse = True)[0:10]"
   ]
  },
  {
   "cell_type": "code",
   "execution_count": 19,
   "id": "5645ed87-9841-48ff-85ae-371f11fd4f90",
   "metadata": {},
   "outputs": [
    {
     "data": {
      "text/plain": [
       "[(17071973500, 1.0),\n",
       " (17085020200, 1.0),\n",
       " (17171970700, 1.0),\n",
       " (17031730300, 0.9166666666666666),\n",
       " (17001010300, 0.9144736842105263),\n",
       " (17161023500, 0.8095238095238095),\n",
       " (17143001900, 0.8018867924528302),\n",
       " (17027900401, 0.8),\n",
       " (17001000202, 0.7947761194029851),\n",
       " (17113001301, 0.7781456953642384)]"
      ]
     },
     "execution_count": 19,
     "metadata": {},
     "output_type": "execute_result"
    }
   ],
   "source": [
    "sorted(nx.clustering(RiskNetwork3).items(),key = lambda x:x[1], reverse = True)[0:10]"
   ]
  },
  {
   "cell_type": "code",
   "execution_count": 20,
   "id": "0d0a36fc-53fb-4be5-877b-56c89930e485",
   "metadata": {},
   "outputs": [],
   "source": [
    "RiskNetwork_list = [RiskNetwork1, RiskNetwork2, RiskNetwork3, RiskNetwork4]"
   ]
  },
  {
   "cell_type": "code",
   "execution_count": 21,
   "id": "5d6ed5e0-d40b-46e9-99d6-62b480e575ed",
   "metadata": {},
   "outputs": [
    {
     "data": {
      "text/plain": [
       "[0.009470620378530439,\n",
       " 0.008278033871975414,\n",
       " 0.008278033871975414,\n",
       " 0.008257956800732082]"
      ]
     },
     "execution_count": 21,
     "metadata": {},
     "output_type": "execute_result"
    }
   ],
   "source": [
    "density_list = []\n",
    "for RiskNetwork in RiskNetwork_list:\n",
    "    density_list.append(nx.density(RiskNetwork))\n",
    "density_list"
   ]
  },
  {
   "cell_type": "code",
   "execution_count": 51,
   "id": "7d9e8317-5a58-4c4d-8cb7-a743a7315ca7",
   "metadata": {},
   "outputs": [
    {
     "data": {
      "text/plain": [
       "[(17031839100, 0.6052631578947368),\n",
       " (17031320100, 0.32349165596919127),\n",
       " (17031980000, 0.3199614890885751),\n",
       " (17031081800, 0.29364569961489084),\n",
       " (17031836200, 0.2628369704749679),\n",
       " (17197883522, 0.23042362002567393),\n",
       " (17031320400, 0.22143774069319638),\n",
       " (17031081401, 0.20860077021822848),\n",
       " (17031804603, 0.2063543003851091),\n",
       " (17031281900, 0.19929396662387674)]"
      ]
     },
     "execution_count": 51,
     "metadata": {},
     "output_type": "execute_result"
    }
   ],
   "source": [
    "sorted(nx.degree_centrality(RiskNetwork4).items(),key = lambda x:x[1], reverse = True)[0:10]"
   ]
  },
  {
   "cell_type": "code",
   "execution_count": 68,
   "id": "d95f827f-a61e-45d3-8ea0-113d01221f9f",
   "metadata": {},
   "outputs": [
    {
     "data": {
      "text/plain": [
       "[(17031839100, 0.5882541720154043),\n",
       " (17031980000, 0.32060333761232346),\n",
       " (17031320100, 0.2910783055198973),\n",
       " (17031081800, 0.27599486521181),\n",
       " (17031836200, 0.2609114249037227),\n",
       " (17197883522, 0.2211168164313222),\n",
       " (17031320400, 0.2063543003851091),\n",
       " (17031081401, 0.19672657252888318),\n",
       " (17031804603, 0.18196405648267008),\n",
       " (17031281900, 0.1761874197689345),\n",
       " (17043844601, 0.17137355584082156),\n",
       " (17031081500, 0.15019255455712452)]"
      ]
     },
     "execution_count": 68,
     "metadata": {},
     "output_type": "execute_result"
    }
   ],
   "source": [
    "sorted(nx.in_degree_centrality(RiskNetwork2).items(),key = lambda x:x[1], reverse = True)[0:12]"
   ]
  },
  {
   "cell_type": "code",
   "execution_count": null,
   "id": "8cffe77c-1dfd-4e27-b62b-ec5de41e55c5",
   "metadata": {},
   "outputs": [],
   "source": []
  },
  {
   "cell_type": "code",
   "execution_count": 65,
   "id": "1accd140-b975-4c3f-863c-5200317b9a33",
   "metadata": {},
   "outputs": [
    {
     "data": {
      "text/plain": [
       "[(17043841703, 0.037869062901155326),\n",
       " (17089850701, 0.037869062901155326),\n",
       " (17093890700, 0.036585365853658534),\n",
       " (17093890400, 0.03498074454428755),\n",
       " (17031320100, 0.03305519897304236),\n",
       " (17093890101, 0.032413350449293964),\n",
       " (17043846310, 0.032413350449293964),\n",
       " (17031803608, 0.029525032092426184),\n",
       " (17043846411, 0.02920410783055199),\n",
       " (17031806002, 0.02920410783055199)]"
      ]
     },
     "execution_count": 65,
     "metadata": {},
     "output_type": "execute_result"
    }
   ],
   "source": [
    "sorted(nx.out_degree_centrality(RiskNetwork4).items(),key = lambda x:x[1], reverse = True)[0:10]"
   ]
  },
  {
   "cell_type": "code",
   "execution_count": 66,
   "id": "2e11a2e9-05e6-4cfd-912a-bde12c086813",
   "metadata": {},
   "outputs": [
    {
     "data": {
      "text/plain": [
       "[(17031839100, 1813),\n",
       " (17031980000, 991),\n",
       " (17031320100, 905),\n",
       " (17031081800, 858),\n",
       " (17031836200, 809),\n",
       " (17197883522, 678),\n",
       " (17031320400, 640),\n",
       " (17031081401, 609),\n",
       " (17031804603, 563),\n",
       " (17031281900, 546),\n",
       " (17043844601, 529),\n",
       " (17031838100, 467)]"
      ]
     },
     "execution_count": 66,
     "metadata": {},
     "output_type": "execute_result"
    }
   ],
   "source": [
    "sorted(RiskNetwork1.in_degree(), key=lambda pair: pair[1], reverse=True)[:10]"
   ]
  },
  {
   "cell_type": "code",
   "execution_count": null,
   "id": "65eb07c3-91f1-4aa7-a8ed-d27b51991687",
   "metadata": {},
   "outputs": [],
   "source": []
  },
  {
   "cell_type": "markdown",
   "id": "54aa9076-8c0f-4945-a5e3-b9d991aee398",
   "metadata": {},
   "source": [
    "### the inflation of Density over time"
   ]
  },
  {
   "cell_type": "code",
   "execution_count": 134,
   "id": "fbd1c4bd-afcb-46b0-a1a9-91d34520edd8",
   "metadata": {},
   "outputs": [
    {
     "data": {
      "text/plain": [
       "0.008248690460158236"
      ]
     },
     "execution_count": 134,
     "metadata": {},
     "output_type": "execute_result"
    }
   ],
   "source": []
  },
  {
   "cell_type": "code",
   "execution_count": 26,
   "id": "57267993-2300-4eda-9163-745c1e671caa",
   "metadata": {},
   "outputs": [
    {
     "ename": "AttributeError",
     "evalue": "'DiGraph' object has no attribute 'values'",
     "output_type": "error",
     "traceback": [
      "\u001b[0;31m---------------------------------------------------------------------------\u001b[0m",
      "\u001b[0;31mAttributeError\u001b[0m                            Traceback (most recent call last)",
      "\u001b[0;32m<ipython-input-26-6918a62951ff>\u001b[0m in \u001b[0;36m<module>\u001b[0;34m\u001b[0m\n\u001b[1;32m      1\u001b[0m \u001b[0min_degrees\u001b[0m \u001b[0;34m=\u001b[0m \u001b[0mRiskNetwork4\u001b[0m\u001b[0;34m.\u001b[0m\u001b[0min_degree\u001b[0m\u001b[0;34m(\u001b[0m\u001b[0;34m)\u001b[0m \u001b[0;31m# dictionary node:degree\u001b[0m\u001b[0;34m\u001b[0m\u001b[0;34m\u001b[0m\u001b[0m\n\u001b[0;32m----> 2\u001b[0;31m \u001b[0min_values\u001b[0m \u001b[0;34m=\u001b[0m \u001b[0msorted\u001b[0m\u001b[0;34m(\u001b[0m\u001b[0mset\u001b[0m\u001b[0;34m(\u001b[0m\u001b[0mRiskNetwork4\u001b[0m\u001b[0;34m.\u001b[0m\u001b[0mvalues\u001b[0m\u001b[0;34m(\u001b[0m\u001b[0;34m)\u001b[0m\u001b[0;34m)\u001b[0m\u001b[0;34m)\u001b[0m\u001b[0;34m\u001b[0m\u001b[0;34m\u001b[0m\u001b[0m\n\u001b[0m\u001b[1;32m      3\u001b[0m \u001b[0min_hist\u001b[0m \u001b[0;34m=\u001b[0m \u001b[0;34m[\u001b[0m\u001b[0min_degrees\u001b[0m\u001b[0;34m.\u001b[0m\u001b[0mvalues\u001b[0m\u001b[0;34m(\u001b[0m\u001b[0;34m)\u001b[0m\u001b[0;34m.\u001b[0m\u001b[0mcount\u001b[0m\u001b[0;34m(\u001b[0m\u001b[0mx\u001b[0m\u001b[0;34m)\u001b[0m \u001b[0;32mfor\u001b[0m \u001b[0mx\u001b[0m \u001b[0;32min\u001b[0m \u001b[0min_values\u001b[0m\u001b[0;34m]\u001b[0m\u001b[0;34m\u001b[0m\u001b[0;34m\u001b[0m\u001b[0m\n",
      "\u001b[0;31mAttributeError\u001b[0m: 'DiGraph' object has no attribute 'values'"
     ]
    }
   ],
   "source": [
    "in_degrees = RiskNetwork4.in_degree() # dictionary node:degree \n",
    "in_values = sorted(set(RiskNetwork4.values()))\n",
    "in_hist = [in_degrees.values().count(x) for x in in_values]"
   ]
  },
  {
   "cell_type": "code",
   "execution_count": 27,
   "id": "0449cb00-0351-4589-baa0-19217a082cbb",
   "metadata": {},
   "outputs": [
    {
     "ename": "AttributeError",
     "evalue": "module 'networkx' has no attribute 'connected_component_subgraphs'",
     "output_type": "error",
     "traceback": [
      "\u001b[0;31m---------------------------------------------------------------------------\u001b[0m",
      "\u001b[0;31mAttributeError\u001b[0m                            Traceback (most recent call last)",
      "\u001b[0;32m<ipython-input-27-585526ded55f>\u001b[0m in \u001b[0;36m<module>\u001b[0;34m\u001b[0m\n\u001b[0;32m----> 1\u001b[0;31m \u001b[0mnx\u001b[0m\u001b[0;34m.\u001b[0m\u001b[0mconnected_component_subgraphs\u001b[0m\u001b[0;34m(\u001b[0m \u001b[0mRiskNetwork4\u001b[0m\u001b[0;34m)\u001b[0m\u001b[0;34m\u001b[0m\u001b[0;34m\u001b[0m\u001b[0m\n\u001b[0m",
      "\u001b[0;31mAttributeError\u001b[0m: module 'networkx' has no attribute 'connected_component_subgraphs'"
     ]
    }
   ],
   "source": [
    "nx.connected_component_subgraphs(RiskNetwork4)"
   ]
  },
  {
   "cell_type": "code",
   "execution_count": 69,
   "id": "b95241de-0a28-4502-a10f-a4ee1d1766b0",
   "metadata": {},
   "outputs": [
    {
     "data": {
      "text/plain": [
       "203.86900369630297"
      ]
     },
     "execution_count": 69,
     "metadata": {},
     "output_type": "execute_result"
    }
   ],
   "source": [
    " (1810276645.10 - 8836264.21)/8836264.21"
   ]
  },
  {
   "cell_type": "code",
   "execution_count": 70,
   "id": "f8356fb5-dfa3-43b9-9116-b663f4f30400",
   "metadata": {},
   "outputs": [
    {
     "data": {
      "text/plain": [
       "0.2600404753738597"
      ]
     },
     "execution_count": 70,
     "metadata": {},
     "output_type": "execute_result"
    }
   ],
   "source": [
    "(2281021844.45-1810276645.10)/1810276645.10"
   ]
  },
  {
   "cell_type": "code",
   "execution_count": 71,
   "id": "ae46d4ef-62e3-42ad-aa4d-20660298b260",
   "metadata": {},
   "outputs": [
    {
     "data": {
      "text/plain": [
       "1.7388860675581947"
      ]
     },
     "execution_count": 71,
     "metadata": {},
     "output_type": "execute_result"
    }
   ],
   "source": [
    "(6247458949.56-2281021844.45)/2281021844.45"
   ]
  },
  {
   "cell_type": "code",
   "execution_count": null,
   "id": "97d0ac56-781f-4245-9031-6b8c57ba1c25",
   "metadata": {},
   "outputs": [],
   "source": []
  }
 ],
 "metadata": {
  "kernelspec": {
   "display_name": "Python 3",
   "language": "python",
   "name": "python3"
  },
  "language_info": {
   "codemirror_mode": {
    "name": "ipython",
    "version": 3
   },
   "file_extension": ".py",
   "mimetype": "text/x-python",
   "name": "python",
   "nbconvert_exporter": "python",
   "pygments_lexer": "ipython3",
   "version": "3.7.7"
  }
 },
 "nbformat": 4,
 "nbformat_minor": 5
}
