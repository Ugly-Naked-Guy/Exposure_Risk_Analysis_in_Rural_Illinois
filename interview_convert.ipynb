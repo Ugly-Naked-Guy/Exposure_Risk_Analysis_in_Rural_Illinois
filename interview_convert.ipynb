{
 "cells": [
  {
   "cell_type": "code",
   "execution_count": 100,
   "metadata": {},
   "outputs": [],
   "source": [
    "chinese_list = [\"一\", \"一十二\", \"一百二十五\", \"二千三百五十\", \"十万五千\", \"三百二十万\", \"三百二十万五千\", \"三千五百万\"]\n",
    "# number_list = [125]"
   ]
  },
  {
   "cell_type": "code",
   "execution_count": 101,
   "metadata": {},
   "outputs": [],
   "source": [
    "def ConvertChineseToNumber(chinese):\n",
    "    chinese = chinese + \"零\"\n",
    "    number = 0\n",
    "    digit_dict = {\n",
    "        \"一\": 1,\n",
    "        \"二\": 2,\n",
    "        \"两\": 2,\n",
    "        \"三\": 3,\n",
    "        \"四\": 4,\n",
    "        \"五\": 5,\n",
    "        \"六\": 6,\n",
    "        \"七\": 7,\n",
    "        \"八\": 8,\n",
    "        \"九\": 9,\n",
    "        \"十\": 10\n",
    "    }\n",
    "    tens_dict = {\n",
    "        \"零\": 0,\n",
    "        \"十\": 1,\n",
    "        \"百\": 2,\n",
    "        \"千\": 3,\n",
    "        \"万\": 4,\n",
    "        \"十万\": 5,\n",
    "        \"百万\": 6,\n",
    "        \"千万\": 7,\n",
    "        \"亿\": 8,     \n",
    "    }\n",
    "    \n",
    "    digit_p = 0\n",
    "    tens_p = 1\n",
    "    flag_w = 0\n",
    "    flag_y = 0\n",
    "    \n",
    "    while tens_p < len(chinese) and digit_p < len(chinese)-1:# tens_p moves to the end of the chinese input\n",
    "        # read the first digits\n",
    "        digits = chinese[digit_p]\n",
    "        tens_p = digit_p + 1\n",
    "        digit_p = tens_p + 1\n",
    "        tens = chinese[tens_p]\n",
    "#         if tens == \"万\":\n",
    "#             flag_w = 1\n",
    "#         elif tens == \"亿\":\n",
    "#             flag_y= 1\n",
    "        if digits not in tens_dict:\n",
    "            number += digit_dict[digits]*10**tens_dict[tens]\n",
    "        # check if the pointer next to tens is digit or not\n",
    "        else:\n",
    "            while chinese[digit_p] not in tens_dict:\n",
    "                digit_p += 1\n",
    "            # tens_p2 is the end pointer of the current tens    \n",
    "            tens_p2 = digit_p-1\n",
    "            digit_p = tens_p-1\n",
    "            # find the tens\n",
    "            tens = chinese[tens_p, tens_p2+1]\n",
    "            number += digit_dict[digits]*10**tens_dict[tens]\n",
    "            # move the digit pointer to the next of tens_p2\n",
    "            digit_p = tens_p2 + 1\n",
    "    return number  \n",
    "\n",
    "# 三百二十万：如果前面没有出现比百万更大的单位，就（三百二十）万"
   ]
  },
  {
   "cell_type": "code",
   "execution_count": 102,
   "metadata": {},
   "outputs": [
    {
     "name": "stdout",
     "output_type": "stream",
     "text": [
      "1\n",
      "12\n",
      "125\n",
      "2350\n"
     ]
    },
    {
     "ename": "TypeError",
     "evalue": "string indices must be integers",
     "output_type": "error",
     "traceback": [
      "\u001b[0;31m---------------------------------------------------------------------------\u001b[0m",
      "\u001b[0;31mTypeError\u001b[0m                                 Traceback (most recent call last)",
      "\u001b[0;32m<ipython-input-102-8f9afc3740ec>\u001b[0m in \u001b[0;36m<module>\u001b[0;34m\u001b[0m\n\u001b[1;32m      1\u001b[0m \u001b[0;32mfor\u001b[0m \u001b[0mchinese\u001b[0m \u001b[0;32min\u001b[0m \u001b[0mchinese_list\u001b[0m\u001b[0;34m:\u001b[0m\u001b[0;34m\u001b[0m\u001b[0;34m\u001b[0m\u001b[0m\n\u001b[0;32m----> 2\u001b[0;31m     \u001b[0mnumber\u001b[0m \u001b[0;34m=\u001b[0m \u001b[0mConvertChineseToNumber\u001b[0m\u001b[0;34m(\u001b[0m\u001b[0mchinese\u001b[0m\u001b[0;34m)\u001b[0m\u001b[0;34m\u001b[0m\u001b[0;34m\u001b[0m\u001b[0m\n\u001b[0m\u001b[1;32m      3\u001b[0m     \u001b[0mprint\u001b[0m\u001b[0;34m(\u001b[0m\u001b[0mnumber\u001b[0m\u001b[0;34m)\u001b[0m\u001b[0;34m\u001b[0m\u001b[0;34m\u001b[0m\u001b[0m\n",
      "\u001b[0;32m<ipython-input-101-ad416b75e796>\u001b[0m in \u001b[0;36mConvertChineseToNumber\u001b[0;34m(chinese)\u001b[0m\n\u001b[1;32m     52\u001b[0m             \u001b[0mdigit_p\u001b[0m \u001b[0;34m=\u001b[0m \u001b[0mtens_p\u001b[0m\u001b[0;34m-\u001b[0m\u001b[0;36m1\u001b[0m\u001b[0;34m\u001b[0m\u001b[0;34m\u001b[0m\u001b[0m\n\u001b[1;32m     53\u001b[0m             \u001b[0;31m# find the tens\u001b[0m\u001b[0;34m\u001b[0m\u001b[0;34m\u001b[0m\u001b[0;34m\u001b[0m\u001b[0m\n\u001b[0;32m---> 54\u001b[0;31m             \u001b[0mtens\u001b[0m \u001b[0;34m=\u001b[0m \u001b[0mchinese\u001b[0m\u001b[0;34m[\u001b[0m\u001b[0mtens_p\u001b[0m\u001b[0;34m,\u001b[0m \u001b[0mtens_p2\u001b[0m\u001b[0;34m+\u001b[0m\u001b[0;36m1\u001b[0m\u001b[0;34m]\u001b[0m\u001b[0;34m\u001b[0m\u001b[0;34m\u001b[0m\u001b[0m\n\u001b[0m\u001b[1;32m     55\u001b[0m             \u001b[0mnumber\u001b[0m \u001b[0;34m+=\u001b[0m \u001b[0mdigit_dict\u001b[0m\u001b[0;34m[\u001b[0m\u001b[0mdigits\u001b[0m\u001b[0;34m]\u001b[0m\u001b[0;34m*\u001b[0m\u001b[0;36m10\u001b[0m\u001b[0;34m**\u001b[0m\u001b[0mtens_dict\u001b[0m\u001b[0;34m[\u001b[0m\u001b[0mtens\u001b[0m\u001b[0;34m]\u001b[0m\u001b[0;34m\u001b[0m\u001b[0;34m\u001b[0m\u001b[0m\n\u001b[1;32m     56\u001b[0m             \u001b[0;31m# move the digit pointer to the next of tens_p2\u001b[0m\u001b[0;34m\u001b[0m\u001b[0;34m\u001b[0m\u001b[0;34m\u001b[0m\u001b[0m\n",
      "\u001b[0;31mTypeError\u001b[0m: string indices must be integers"
     ]
    }
   ],
   "source": [
    "for chinese in chinese_list:\n",
    "    number = ConvertChineseToNumber(chinese)\n",
    "    print(number)"
   ]
  },
  {
   "cell_type": "code",
   "execution_count": null,
   "metadata": {},
   "outputs": [],
   "source": []
  },
  {
   "cell_type": "code",
   "execution_count": null,
   "metadata": {},
   "outputs": [],
   "source": []
  },
  {
   "cell_type": "code",
   "execution_count": null,
   "metadata": {},
   "outputs": [],
   "source": []
  },
  {
   "cell_type": "code",
   "execution_count": null,
   "metadata": {},
   "outputs": [],
   "source": []
  },
  {
   "cell_type": "code",
   "execution_count": 101,
   "metadata": {},
   "outputs": [],
   "source": [
    "nums = [-7,2,4,-7,5,2,-1,2,-4,3]\n",
    "# nums = [2,4,5,6]"
   ]
  },
  {
   "cell_type": "code",
   "execution_count": 102,
   "metadata": {},
   "outputs": [],
   "source": [
    "def findMaxSubarray(nums):\n",
    "    record = [nums[0]] * len(nums)\n",
    "    max_sum = nums[0]\n",
    "    for i in range(1, len(nums)):\n",
    "        record[i] = max(record[i-1] + nums[i], nums[i])\n",
    "        max_sum = max(record[i], max_sum)\n",
    "    print(record)\n",
    "    return max_sum"
   ]
  },
  {
   "cell_type": "code",
   "execution_count": 103,
   "metadata": {},
   "outputs": [
    {
     "name": "stdout",
     "output_type": "stream",
     "text": [
      "[-7, 2, 6, -1, 5, 7, 6, 8, 4, 7]\n"
     ]
    },
    {
     "data": {
      "text/plain": [
       "8"
      ]
     },
     "execution_count": 103,
     "metadata": {},
     "output_type": "execute_result"
    }
   ],
   "source": [
    "findMaxSubarray(nums)"
   ]
  },
  {
   "cell_type": "code",
   "execution_count": 104,
   "metadata": {},
   "outputs": [
    {
     "data": {
      "text/plain": [
       "10"
      ]
     },
     "execution_count": 104,
     "metadata": {},
     "output_type": "execute_result"
    }
   ],
   "source": [
    "len(nums)"
   ]
  },
  {
   "cell_type": "code",
   "execution_count": null,
   "metadata": {},
   "outputs": [],
   "source": []
  },
  {
   "cell_type": "code",
   "execution_count": 30,
   "metadata": {},
   "outputs": [],
   "source": [
    "def isRunYear(year):\n",
    "    if year % 400 == 0:\n",
    "        return True\n",
    "    elif year % 100 == 0:\n",
    "        return False\n",
    "    elif year % 4 == 0:\n",
    "        return True\n",
    "    else:\n",
    "        return False\n",
    "\n",
    "def getNumRunYear(year):\n",
    "    base = 1970\n",
    "    count = 0\n",
    "    for i in range(base, year):\n",
    "        if isRunYear(i) == True:\n",
    "            count += 1\n",
    "    return count\n",
    "\n",
    "def dateToNumDays(date):\n",
    "    base = 1970\n",
    "    year = int(date.split('-')[0])\n",
    "    month = date.split('-')[1]\n",
    "    day = int(date.split('-')[2])\n",
    "    numRunYear = getNumRunYear(year)\n",
    "    month_dict = {\n",
    "         '01': 0,\n",
    "         '02': 31,\n",
    "         '03': 31+28,\n",
    "         '04': 31+28+31,\n",
    "         '05': 31+28+31+30,\n",
    "         '06': 31+28+31+30+31,\n",
    "         '07': 31+28+31+30+31+30,\n",
    "         '08': 31+28+31+30+31+30+31,\n",
    "         '09': 31+28+31+30+31+30+31+31,\n",
    "         '10': 31+28+31+30+31+30+31+31+30,\n",
    "         '11': 31+28+31+30+31+30+31+31+30+31,\n",
    "         '12': 31+28+31+30+31+30+31+31+30+31+30\n",
    "        }\n",
    "    month_dict_run = {\n",
    "         '01': 0,\n",
    "         '02': 31,\n",
    "         '03': 31+29,\n",
    "         '04': 31+28+31,\n",
    "         '05': 31+28+31+30,\n",
    "         '06': 31+28+31+30+31,\n",
    "         '07': 31+28+31+30+31+30,\n",
    "         '08': 31+28+31+30+31+30+31,\n",
    "         '09': 31+28+31+30+31+30+31+31,\n",
    "         '10': 31+28+31+30+31+30+31+31+30,\n",
    "         '11': 31+28+31+30+31+30+31+31+30+31,\n",
    "         '12': 31+28+31+30+31+30+31+31+30+31+30\n",
    "        }\n",
    "    if isRunYear(year) == True:\n",
    "        days = numRunYear*366+(year-base-numRunYear)*365 + month_dict[month] + day\n",
    "    else:\n",
    "        days = numRunYear*366+(year-base-numRunYear)*365 + month_dict_run[month] + day\n",
    "    return days\n",
    "def cal_number_of_days(date1 , date2 ):\n",
    "    return dateToNumDays(date2) - dateToNumDays(date1)"
   ]
  },
  {
   "cell_type": "code",
   "execution_count": 32,
   "metadata": {},
   "outputs": [
    {
     "data": {
      "text/plain": [
       "5"
      ]
     },
     "execution_count": 32,
     "metadata": {},
     "output_type": "execute_result"
    }
   ],
   "source": [
    "\n"
   ]
  },
  {
   "cell_type": "code",
   "execution_count": 39,
   "metadata": {},
   "outputs": [],
   "source": [
    "def cal_number_of_days(date1 , date2 ):\n",
    "    # write code here\n",
    "    def isRunYear(year):\n",
    "        if year % 400 == 0:\n",
    "            return True\n",
    "        elif year % 100 == 0:\n",
    "            return False\n",
    "        elif year % 4 == 0:\n",
    "            return True\n",
    "        else:\n",
    "            return False\n",
    "\n",
    "    def getNumRunYear(year):\n",
    "        base = 1900\n",
    "        count = 0\n",
    "        for i in range(base, year):\n",
    "            if isRunYear(i) == True:\n",
    "                count += 1\n",
    "        return count\n",
    "\n",
    "    def dateToNumDays(date):\n",
    "        base = 1900\n",
    "        year = int(date.split('-')[0])\n",
    "        month = date.split('-')[1]\n",
    "        day = int(date.split('-')[2])\n",
    "        numRunYear = getNumRunYear(year)\n",
    "        month_dict = {\n",
    "             '01': 0,\n",
    "             '02': 31,\n",
    "             '03': 31+28,\n",
    "             '04': 31+28+31,\n",
    "             '05': 31+28+31+30,\n",
    "             '06': 31+28+31+30+31,\n",
    "             '07': 31+28+31+30+31+30,\n",
    "             '08': 31+28+31+30+31+30+31,\n",
    "             '09': 31+28+31+30+31+30+31+31,\n",
    "             '10': 31+28+31+30+31+30+31+31+30,\n",
    "             '11': 31+28+31+30+31+30+31+31+30+31,\n",
    "             '12': 31+28+31+30+31+30+31+31+30+31+30\n",
    "            }\n",
    "        month_dict_run = {\n",
    "             '01': 0,\n",
    "             '02': 31,\n",
    "             '03': 31+29,\n",
    "             '04': 31+29+31,\n",
    "             '05': 31+29+31+30,\n",
    "             '06': 31+29+31+30+31,\n",
    "             '07': 31+29+31+30+31+30,\n",
    "             '08': 31+29+31+30+31+30+31,\n",
    "             '09': 31+29+31+30+31+30+31+31,\n",
    "             '10': 31+29+31+30+31+30+31+31+30,\n",
    "             '11': 31+29+31+30+31+30+31+31+30+31,\n",
    "             '12': 31+29+31+30+31+30+31+31+30+31+30\n",
    "            }\n",
    "        if isRunYear(year) == True:\n",
    "            days = numRunYear*366+(year-base-numRunYear)*365 + month_dict[month] + day\n",
    "        else:\n",
    "            days = numRunYear*366+(year-base-numRunYear)*365 + month_dict_run[month] + day\n",
    "        return days\n",
    "    return dateToNumDays(date2) - dateToNumDays(date1)"
   ]
  },
  {
   "cell_type": "code",
   "execution_count": 40,
   "metadata": {},
   "outputs": [
    {
     "data": {
      "text/plain": [
       "369"
      ]
     },
     "execution_count": 40,
     "metadata": {},
     "output_type": "execute_result"
    }
   ],
   "source": [
    "cal_number_of_days('2019-08-01' , '2020-08-06')"
   ]
  },
  {
   "cell_type": "code",
   "execution_count": null,
   "metadata": {},
   "outputs": [],
   "source": []
  }
 ],
 "metadata": {
  "kernelspec": {
   "display_name": "Python 3",
   "language": "python",
   "name": "python3"
  },
  "language_info": {
   "codemirror_mode": {
    "name": "ipython",
    "version": 3
   },
   "file_extension": ".py",
   "mimetype": "text/x-python",
   "name": "python",
   "nbconvert_exporter": "python",
   "pygments_lexer": "ipython3",
   "version": "3.7.7"
  }
 },
 "nbformat": 4,
 "nbformat_minor": 4
}
