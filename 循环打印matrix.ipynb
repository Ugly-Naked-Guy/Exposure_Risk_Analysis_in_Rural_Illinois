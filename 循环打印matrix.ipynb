{
 "cells": [
  {
   "cell_type": "code",
   "execution_count": null,
   "metadata": {},
   "outputs": [],
   "source": []
  },
  {
   "cell_type": "code",
   "execution_count": 197,
   "metadata": {},
   "outputs": [],
   "source": [
    "matrix = [[1, 2, 3, 4],\n",
    "          [5, 6, 7, 8],\n",
    "          [9,10,11,12]]\n",
    "\n",
    "# matrix = [[1]]"
   ]
  },
  {
   "cell_type": "code",
   "execution_count": 198,
   "metadata": {},
   "outputs": [],
   "source": [
    "def spiralOrder(matrix):\n",
    "    output = []\n",
    "    height = len(matrix)-1\n",
    "    length = len(matrix[0])-1\n",
    "    \n",
    "    def printAround(top_left_row, top_left_col,\n",
    "                    bottom_right_row, bottom_right_col):\n",
    "        while top_left_row <= bottom_right_row and top_left_col <= bottom_right_col:\n",
    "            for col in range(top_left_col, bottom_right_col+1):\n",
    "                output.append(matrix[top_left_row][col])\n",
    "            for row in range(top_left_row+1, bottom_right_row+1):\n",
    "                output.append(matrix[row][bottom_right_col]) \n",
    "            if top_left_row < bottom_right_row and top_left_col < bottom_right_col:\n",
    "                for col in range(bottom_right_col-1, top_left_col-1, -1):\n",
    "                    output.append(matrix[bottom_right_row][col])\n",
    "                for row in range(bottom_right_row-1, top_left_row, -1):\n",
    "                    output.append(matrix[row][top_left_col])\n",
    "\n",
    "            top_left_row += 1\n",
    "            top_left_col += 1\n",
    "            bottom_right_row -= 1\n",
    "            bottom_right_col -= 1\n",
    "            \n",
    "#         if top_left_row == bottom_right_row and top_left_col == bottom_right_col:\n",
    "#             output.append(matrix[top_left_row][top_left_col])\n",
    "    printAround(0, 0, height, length)\n",
    "    return output"
   ]
  },
  {
   "cell_type": "code",
   "execution_count": 199,
   "metadata": {},
   "outputs": [
    {
     "data": {
      "text/plain": [
       "[1, 2, 3, 4, 8, 12, 11, 10, 9, 5, 6, 7]"
      ]
     },
     "execution_count": 199,
     "metadata": {},
     "output_type": "execute_result"
    }
   ],
   "source": [
    "spiralOrder(matrix)"
   ]
  },
  {
   "cell_type": "code",
   "execution_count": 67,
   "metadata": {},
   "outputs": [],
   "source": [
    "def spiralOrder(matrix):\n",
    "    output = []\n",
    "    height = len(matrix)-1\n",
    "    length = len(matrix[0])-1\n",
    "    \n",
    "    def printAround(top_left_row, top_left_col,\n",
    "                    bottom_right_row, bottom_right_col):\n",
    "        while top_left_row <= bottom_right_row and top_left_col <= bottom_right_col:\n",
    "            vertical_walk = top_left_col\n",
    "            while vertical_walk < bottom_right_col:\n",
    "                output.append(matrix[top_left_row][vertical_walk])\n",
    "                vertical_walk += 1\n",
    "            horizontal_walk = top_left_row\n",
    "            while horizontal_walk > bottom_right_row:\n",
    "                output.append(matrix[horizontal_walk][bottom_right_col])\n",
    "                horizontal_walk -= 1\n",
    "            if top_left_row <= bottom_right_row and top_left_col <= bottom_right_col:\n",
    "                while vertical_walk > top_left_col:\n",
    "                    output.append(matrix[bottom_right_row][vertical_walk])\n",
    "                    vertical_walk -= 1\n",
    "                while horizontal_walk < top_left_row:\n",
    "                    output.append(matrix[horizontal_walk][top_left_col])\n",
    "                    horizontal_walk += 1\n",
    "\n",
    "            top_left_row += 1\n",
    "            top_left_col += 1\n",
    "            bottom_right_row -= 1\n",
    "            bottom_right_col -= 1\n",
    "\n",
    "    printAround(0, 0, height, length)\n",
    "    return output"
   ]
  },
  {
   "cell_type": "code",
   "execution_count": 63,
   "metadata": {},
   "outputs": [
    {
     "data": {
      "text/plain": [
       "[1, 2, 8, 8]"
      ]
     },
     "execution_count": 63,
     "metadata": {},
     "output_type": "execute_result"
    }
   ],
   "source": [
    "spiralOrder(matrix)"
   ]
  },
  {
   "cell_type": "code",
   "execution_count": 25,
   "metadata": {},
   "outputs": [],
   "source": [
    "height = len(matrix)-1\n",
    "length = len(matrix[0])-1\n",
    "def printAround(top_left_row, top_left_col,\n",
    "                    bottom_right_row, bottom_right_col):\n",
    "        while top_left_row != bottom_right_row:\n",
    "            vertical_walk = 0\n",
    "            while vertical_walk < bottom_right_col:\n",
    "                output.append(matrix[top_left_row][vertical_walk])\n",
    "                vertical_walk += 1\n",
    "            horizontal_walk = top_left_row\n",
    "            while horizontal_walk > bottom_right_row:\n",
    "                output.append(matrix[horizontal_walk][bottom_right_col])\n",
    "                horizontal_walk -= 1\n",
    "            while vertical_walk > top_left_col:\n",
    "                output.append(matrix[bottom_right_row][vertical_walk])\n",
    "                vertical_walk -= 1\n",
    "            while horizontal_walk < top_left_row:\n",
    "                output.append(matrix[horizontal_walk][top_left_col])\n",
    "                horizontal_walk += 1"
   ]
  },
  {
   "cell_type": "code",
   "execution_count": 26,
   "metadata": {},
   "outputs": [
    {
     "ename": "KeyboardInterrupt",
     "evalue": "",
     "output_type": "error",
     "traceback": [
      "\u001b[0;31m---------------------------------------------------------------------------\u001b[0m",
      "\u001b[0;31mKeyboardInterrupt\u001b[0m                         Traceback (most recent call last)",
      "\u001b[0;32m<ipython-input-26-032ad14efd6f>\u001b[0m in \u001b[0;36m<module>\u001b[0;34m\u001b[0m\n\u001b[0;32m----> 1\u001b[0;31m \u001b[0mprintAround\u001b[0m\u001b[0;34m(\u001b[0m\u001b[0;36m0\u001b[0m\u001b[0;34m,\u001b[0m \u001b[0;36m0\u001b[0m\u001b[0;34m,\u001b[0m \u001b[0mheight\u001b[0m\u001b[0;34m,\u001b[0m \u001b[0mlength\u001b[0m\u001b[0;34m)\u001b[0m\u001b[0;34m\u001b[0m\u001b[0;34m\u001b[0m\u001b[0m\n\u001b[0m",
      "\u001b[0;32m<ipython-input-25-5010eb868e1a>\u001b[0m in \u001b[0;36mprintAround\u001b[0;34m(top_left_row, top_left_col, bottom_right_row, bottom_right_col)\u001b[0m\n\u001b[1;32m     13\u001b[0m                 \u001b[0mhorizontal_walk\u001b[0m \u001b[0;34m-=\u001b[0m \u001b[0;36m1\u001b[0m\u001b[0;34m\u001b[0m\u001b[0;34m\u001b[0m\u001b[0m\n\u001b[1;32m     14\u001b[0m             \u001b[0;32mwhile\u001b[0m \u001b[0mvertical_walk\u001b[0m \u001b[0;34m>\u001b[0m \u001b[0mtop_left_col\u001b[0m\u001b[0;34m:\u001b[0m\u001b[0;34m\u001b[0m\u001b[0;34m\u001b[0m\u001b[0m\n\u001b[0;32m---> 15\u001b[0;31m                 \u001b[0moutput\u001b[0m\u001b[0;34m.\u001b[0m\u001b[0mappend\u001b[0m\u001b[0;34m(\u001b[0m\u001b[0mmatrix\u001b[0m\u001b[0;34m[\u001b[0m\u001b[0mbottom_right_row\u001b[0m\u001b[0;34m]\u001b[0m\u001b[0;34m[\u001b[0m\u001b[0mvertical_walk\u001b[0m\u001b[0;34m]\u001b[0m\u001b[0;34m)\u001b[0m\u001b[0;34m\u001b[0m\u001b[0;34m\u001b[0m\u001b[0m\n\u001b[0m\u001b[1;32m     16\u001b[0m                 \u001b[0mvertical_walk\u001b[0m \u001b[0;34m-=\u001b[0m \u001b[0;36m1\u001b[0m\u001b[0;34m\u001b[0m\u001b[0;34m\u001b[0m\u001b[0m\n\u001b[1;32m     17\u001b[0m             \u001b[0;32mwhile\u001b[0m \u001b[0mhorizontal_walk\u001b[0m \u001b[0;34m<\u001b[0m \u001b[0mtop_left_row\u001b[0m\u001b[0;34m:\u001b[0m\u001b[0;34m\u001b[0m\u001b[0;34m\u001b[0m\u001b[0m\n",
      "\u001b[0;31mKeyboardInterrupt\u001b[0m: "
     ]
    }
   ],
   "source": [
    "printAround(0, 0, height, length)"
   ]
  },
  {
   "cell_type": "code",
   "execution_count": 166,
   "metadata": {},
   "outputs": [],
   "source": [
    "s=\"the sky is blue\""
   ]
  },
  {
   "cell_type": "code",
   "execution_count": 174,
   "metadata": {},
   "outputs": [],
   "source": [
    "def reverseWords(s):\n",
    "    output = []\n",
    "    i = 0\n",
    "    while i < len(s):\n",
    "        word = \"\"\n",
    "        if s[i] != \" \":\n",
    "            word = word+s[i] \n",
    "        else:\n",
    "            continue\n",
    "        i += 1\n",
    "        output.append(word)\n",
    "    return output\n"
   ]
  },
  {
   "cell_type": "code",
   "execution_count": 175,
   "metadata": {},
   "outputs": [
    {
     "ename": "KeyboardInterrupt",
     "evalue": "",
     "output_type": "error",
     "traceback": [
      "\u001b[0;31m---------------------------------------------------------------------------\u001b[0m",
      "\u001b[0;31mKeyboardInterrupt\u001b[0m                         Traceback (most recent call last)",
      "\u001b[0;32m<ipython-input-175-9c5b02e13b6f>\u001b[0m in \u001b[0;36m<module>\u001b[0;34m\u001b[0m\n\u001b[0;32m----> 1\u001b[0;31m \u001b[0mreverseWords\u001b[0m\u001b[0;34m(\u001b[0m\u001b[0ms\u001b[0m\u001b[0;34m)\u001b[0m\u001b[0;34m\u001b[0m\u001b[0;34m\u001b[0m\u001b[0m\n\u001b[0m",
      "\u001b[0;32m<ipython-input-174-5c5ab46ae5f1>\u001b[0m in \u001b[0;36mreverseWords\u001b[0;34m(s)\u001b[0m\n\u001b[1;32m      2\u001b[0m     \u001b[0moutput\u001b[0m \u001b[0;34m=\u001b[0m \u001b[0;34m[\u001b[0m\u001b[0;34m]\u001b[0m\u001b[0;34m\u001b[0m\u001b[0;34m\u001b[0m\u001b[0m\n\u001b[1;32m      3\u001b[0m     \u001b[0mi\u001b[0m \u001b[0;34m=\u001b[0m \u001b[0;36m0\u001b[0m\u001b[0;34m\u001b[0m\u001b[0;34m\u001b[0m\u001b[0m\n\u001b[0;32m----> 4\u001b[0;31m     \u001b[0;32mwhile\u001b[0m \u001b[0mi\u001b[0m \u001b[0;34m<\u001b[0m \u001b[0mlen\u001b[0m\u001b[0;34m(\u001b[0m\u001b[0ms\u001b[0m\u001b[0;34m)\u001b[0m\u001b[0;34m:\u001b[0m\u001b[0;34m\u001b[0m\u001b[0;34m\u001b[0m\u001b[0m\n\u001b[0m\u001b[1;32m      5\u001b[0m         \u001b[0mword\u001b[0m \u001b[0;34m=\u001b[0m \u001b[0;34m\"\"\u001b[0m\u001b[0;34m\u001b[0m\u001b[0;34m\u001b[0m\u001b[0m\n\u001b[1;32m      6\u001b[0m         \u001b[0;32mif\u001b[0m \u001b[0ms\u001b[0m\u001b[0;34m[\u001b[0m\u001b[0mi\u001b[0m\u001b[0;34m]\u001b[0m \u001b[0;34m!=\u001b[0m \u001b[0;34m\" \"\u001b[0m\u001b[0;34m:\u001b[0m\u001b[0;34m\u001b[0m\u001b[0;34m\u001b[0m\u001b[0m\n",
      "\u001b[0;31mKeyboardInterrupt\u001b[0m: "
     ]
    }
   ],
   "source": [
    "reverseWords(s)"
   ]
  },
  {
   "cell_type": "code",
   "execution_count": null,
   "metadata": {},
   "outputs": [],
   "source": []
  },
  {
   "cell_type": "code",
   "execution_count": 62,
   "metadata": {},
   "outputs": [],
   "source": [
    "values = [1, 1, 15]"
   ]
  },
  {
   "cell_type": "code",
   "execution_count": 64,
   "metadata": {},
   "outputs": [
    {
     "name": "stdout",
     "output_type": "stream",
     "text": [
      "1\n",
      "4.44089e-16\n"
     ]
    }
   ],
   "source": [
    "l, r, k = values[0], values[1], values[2]\n",
    "fx = 0\n",
    "for i in range(l, r+1):\n",
    "    print(i)\n",
    "    fx += ( (i+10**(-k))**(1/3)-(i)**(1/3) )\n",
    "print('%.5e' % fx)"
   ]
  },
  {
   "cell_type": "code",
   "execution_count": 69,
   "metadata": {},
   "outputs": [
    {
     "data": {
      "text/plain": [
       "4.440892098500626e-16"
      ]
     },
     "execution_count": 69,
     "metadata": {},
     "output_type": "execute_result"
    }
   ],
   "source": [
    "(1+10**(-15))**(1/3) - 1"
   ]
  },
  {
   "cell_type": "code",
   "execution_count": null,
   "metadata": {},
   "outputs": [],
   "source": []
  },
  {
   "cell_type": "code",
   "execution_count": null,
   "metadata": {},
   "outputs": [],
   "source": []
  }
 ],
 "metadata": {
  "kernelspec": {
   "display_name": "Python 3",
   "language": "python",
   "name": "python3"
  },
  "language_info": {
   "codemirror_mode": {
    "name": "ipython",
    "version": 3
   },
   "file_extension": ".py",
   "mimetype": "text/x-python",
   "name": "python",
   "nbconvert_exporter": "python",
   "pygments_lexer": "ipython3",
   "version": "3.7.7"
  }
 },
 "nbformat": 4,
 "nbformat_minor": 4
}
