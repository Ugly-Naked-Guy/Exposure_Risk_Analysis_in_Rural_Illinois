{
 "cells": [
  {
   "cell_type": "code",
   "execution_count": 32,
   "id": "283a9ab0-3f40-44c1-b5bd-7a532266b109",
   "metadata": {},
   "outputs": [],
   "source": [
    "def can_tasks_finish(task_count , task_request ):\n",
    "    # write code here\n",
    "    normal = {}\n",
    "    reverse = {}\n",
    "    for pair in task_request:\n",
    "        if str(pair) not in reverse:\n",
    "            normal[str(pair)] = 1\n",
    "            reverse_pair = [pair[1], pair[0]]\n",
    "            reverse[str(reverse_pair)] = 1\n",
    "        elif str(pair) in reverse:\n",
    "            return False\n",
    "    return True"
   ]
  },
  {
   "cell_type": "code",
   "execution_count": 34,
   "id": "ba3d488d-dd9d-41c7-bdd7-ee93b4e6744b",
   "metadata": {},
   "outputs": [
    {
     "data": {
      "text/plain": [
       "True"
      ]
     },
     "execution_count": 34,
     "metadata": {},
     "output_type": "execute_result"
    }
   ],
   "source": [
    "task_count = 2\n",
    "task_request = [[0,1],[1,0]]\n",
    "can_tasks_finish(task_count, task_request)"
   ]
  },
  {
   "cell_type": "code",
   "execution_count": 30,
   "id": "728fbb86-af75-40c1-bee6-8e995ca7ede6",
   "metadata": {},
   "outputs": [
    {
     "name": "stdout",
     "output_type": "stream",
     "text": [
      "False\n"
     ]
    }
   ],
   "source": [
    "normal = {}\n",
    "reverse = {}\n",
    "for pair in task_request:\n",
    "    if str(pair) not in reverse:\n",
    "        normal[str(pair)] = 1\n",
    "        reverse_pair = [pair[1], pair[0]]\n",
    "        reverse[str(reverse_pair)] = 1\n",
    "    elif str(pair) in reverse:\n",
    "    print('False')"
   ]
  },
  {
   "cell_type": "code",
   "execution_count": 28,
   "id": "7f768741-052a-42c9-b3da-51ea408b578b",
   "metadata": {},
   "outputs": [
    {
     "data": {
      "text/plain": [
       "{'[0, 1]': 1, '[1, 0]': 1}"
      ]
     },
     "execution_count": 28,
     "metadata": {},
     "output_type": "execute_result"
    }
   ],
   "source": [
    "normal"
   ]
  },
  {
   "cell_type": "code",
   "execution_count": 29,
   "id": "fcf215bf-b38e-4071-b534-01bcdaf3acd4",
   "metadata": {},
   "outputs": [
    {
     "data": {
      "text/plain": [
       "{'[0, 1]': 1}"
      ]
     },
     "execution_count": 29,
     "metadata": {},
     "output_type": "execute_result"
    }
   ],
   "source": [
    "reverse "
   ]
  },
  {
   "cell_type": "code",
   "execution_count": 38,
   "id": "6a1c9309-b40e-47de-bab9-530735f80b36",
   "metadata": {},
   "outputs": [],
   "source": [
    "import numpy as np\n",
    "\n",
    "\n",
    "def generateAdjmatrix(task_count, task_request)\n",
    "    adj = np.zeros((task_count, task_count))\n",
    "    for pair in task_request:\n",
    "        row, col = pair[0], pair[1]    \n",
    "        adj[row][col] = 1\n",
    "    return adj"
   ]
  },
  {
   "cell_type": "code",
   "execution_count": 39,
   "id": "98ffe44d-4234-4e6e-b82a-a0de28f7d43d",
   "metadata": {},
   "outputs": [
    {
     "data": {
      "text/plain": [
       "array([[0., 1.],\n",
       "       [1., 0.]])"
      ]
     },
     "execution_count": 39,
     "metadata": {},
     "output_type": "execute_result"
    }
   ],
   "source": [
    "adj"
   ]
  },
  {
   "cell_type": "code",
   "execution_count": 1,
   "id": "abed7c78-73e2-411f-9d8e-740767b28fa0",
   "metadata": {},
   "outputs": [],
   "source": [
    "def generateAdjmatrix(task_count, task_request):\n",
    "    import numpy as np\n",
    "    adj = np.zeros((task_count, task_count))\n",
    "    for pair in task_request:\n",
    "        row, col = pair[0], pair[1]    \n",
    "        adj[row][col] = 1\n",
    "    return adj\n",
    "\n",
    "def dfs(G, i, flag):\n",
    "    r = len(G)\n",
    "    flag[i] = -1\n",
    "    have_circle = False\n",
    "    for j in range(r):\t# 遍历当前节点i的所有邻居节点\n",
    "        if G[i][j] == 1:\n",
    "            if flag[j] == -1:\n",
    "                have_circle = True\n",
    "            elif flag[j] == 0:\n",
    "                have_circle = dfs(G,j,flag)\n",
    "    flag[i] = 1\n",
    "    return have_circle\n",
    "\n",
    "def hasCircle(G):\n",
    "    # flag = 0 该节点暂未访问\n",
    "    # flag = -1 该节点访问了一次\n",
    "    # flag = 1 该节点的所有孩子节点都已访问,就不会再对它做DFS了\n",
    "    r = len(G)\n",
    "    flag = [0] * r\n",
    "    have_circle = True\n",
    "    for i in range(r):\t# 遍历所有的节点\n",
    "        if flag[i] == 0:\n",
    "            have_circle = dfs(G,i,flag)\n",
    "            if have_circle == False:\n",
    "                break\n",
    "    return have_circle\n",
    "\n"
   ]
  },
  {
   "cell_type": "code",
   "execution_count": 3,
   "id": "0ca6e506-cd67-4766-ae49-0ec594291845",
   "metadata": {},
   "outputs": [],
   "source": [
    "task_count = 2\n",
    "task_request = [[0,1],[1,0]]"
   ]
  },
  {
   "cell_type": "code",
   "execution_count": 4,
   "id": "98f749cd-865f-4df3-ad3f-39e25d91f3c9",
   "metadata": {},
   "outputs": [
    {
     "data": {
      "text/plain": [
       "False"
      ]
     },
     "execution_count": 4,
     "metadata": {},
     "output_type": "execute_result"
    }
   ],
   "source": [
    "adj = generateAdjmatrix(task_count, task_request)\n",
    "not hasCircle(adj)"
   ]
  },
  {
   "cell_type": "code",
   "execution_count": null,
   "id": "1e281219-a536-4380-af31-f2fba575e2df",
   "metadata": {},
   "outputs": [],
   "source": []
  }
 ],
 "metadata": {
  "kernelspec": {
   "display_name": "Python 3",
   "language": "python",
   "name": "python3"
  },
  "language_info": {
   "codemirror_mode": {
    "name": "ipython",
    "version": 3
   },
   "file_extension": ".py",
   "mimetype": "text/x-python",
   "name": "python",
   "nbconvert_exporter": "python",
   "pygments_lexer": "ipython3",
   "version": "3.7.7"
  }
 },
 "nbformat": 4,
 "nbformat_minor": 5
}
