{
 "cells": [
  {
   "cell_type": "markdown",
   "metadata": {},
   "source": [
    "# Street Light Data"
   ]
  },
  {
   "cell_type": "code",
   "execution_count": 2,
   "metadata": {},
   "outputs": [],
   "source": [
    "# import libraries\n",
    "import pandas as pd\n",
    "import numpy as np\n",
    "import math\n",
    "from collections import defaultdict"
   ]
  },
  {
   "cell_type": "markdown",
   "metadata": {},
   "source": [
    "### Dictionary: the number of trips origined from each county (e.g. 17001)\n",
    "\n",
    "for both annully aggregated data and street light data"
   ]
  },
  {
   "cell_type": "code",
   "execution_count": 9,
   "metadata": {},
   "outputs": [
    {
     "data": {
      "text/html": [
       "<div>\n",
       "<style scoped>\n",
       "    .dataframe tbody tr th:only-of-type {\n",
       "        vertical-align: middle;\n",
       "    }\n",
       "\n",
       "    .dataframe tbody tr th {\n",
       "        vertical-align: top;\n",
       "    }\n",
       "\n",
       "    .dataframe thead th {\n",
       "        text-align: right;\n",
       "    }\n",
       "</style>\n",
       "<table border=\"1\" class=\"dataframe\">\n",
       "  <thead>\n",
       "    <tr style=\"text-align: right;\">\n",
       "      <th></th>\n",
       "      <th>RESIDENCE</th>\n",
       "      <th>WORKPLACE</th>\n",
       "      <th>JOBS</th>\n",
       "    </tr>\n",
       "  </thead>\n",
       "  <tbody>\n",
       "    <tr>\n",
       "      <th>0</th>\n",
       "      <td>17001000100</td>\n",
       "      <td>17001000100</td>\n",
       "      <td>139</td>\n",
       "    </tr>\n",
       "    <tr>\n",
       "      <th>1</th>\n",
       "      <td>17001000100</td>\n",
       "      <td>17001000201</td>\n",
       "      <td>12</td>\n",
       "    </tr>\n",
       "    <tr>\n",
       "      <th>2</th>\n",
       "      <td>17001000100</td>\n",
       "      <td>17001000202</td>\n",
       "      <td>9</td>\n",
       "    </tr>\n",
       "    <tr>\n",
       "      <th>3</th>\n",
       "      <td>17001000100</td>\n",
       "      <td>17001000400</td>\n",
       "      <td>10</td>\n",
       "    </tr>\n",
       "    <tr>\n",
       "      <th>4</th>\n",
       "      <td>17001000100</td>\n",
       "      <td>17001000500</td>\n",
       "      <td>119</td>\n",
       "    </tr>\n",
       "    <tr>\n",
       "      <th>...</th>\n",
       "      <td>...</td>\n",
       "      <td>...</td>\n",
       "      <td>...</td>\n",
       "    </tr>\n",
       "    <tr>\n",
       "      <th>80423</th>\n",
       "      <td>17203030700</td>\n",
       "      <td>17113005102</td>\n",
       "      <td>2</td>\n",
       "    </tr>\n",
       "    <tr>\n",
       "      <th>80424</th>\n",
       "      <td>17203030700</td>\n",
       "      <td>17143001600</td>\n",
       "      <td>5</td>\n",
       "    </tr>\n",
       "    <tr>\n",
       "      <th>80425</th>\n",
       "      <td>17203030700</td>\n",
       "      <td>17179021201</td>\n",
       "      <td>2</td>\n",
       "    </tr>\n",
       "    <tr>\n",
       "      <th>80426</th>\n",
       "      <td>17203030700</td>\n",
       "      <td>17203030601</td>\n",
       "      <td>6</td>\n",
       "    </tr>\n",
       "    <tr>\n",
       "      <th>80427</th>\n",
       "      <td>17203030700</td>\n",
       "      <td>17203030700</td>\n",
       "      <td>99</td>\n",
       "    </tr>\n",
       "  </tbody>\n",
       "</table>\n",
       "<p>80428 rows × 3 columns</p>\n",
       "</div>"
      ],
      "text/plain": [
       "         RESIDENCE    WORKPLACE  JOBS\n",
       "0      17001000100  17001000100   139\n",
       "1      17001000100  17001000201    12\n",
       "2      17001000100  17001000202     9\n",
       "3      17001000100  17001000400    10\n",
       "4      17001000100  17001000500   119\n",
       "...            ...          ...   ...\n",
       "80423  17203030700  17113005102     2\n",
       "80424  17203030700  17143001600     5\n",
       "80425  17203030700  17179021201     2\n",
       "80426  17203030700  17203030601     6\n",
       "80427  17203030700  17203030700    99\n",
       "\n",
       "[80428 rows x 3 columns]"
      ]
     },
     "execution_count": 9,
     "metadata": {},
     "output_type": "execute_result"
    }
   ],
   "source": [
    "# read the annully aggregated data\n",
    "od_trips_df = pd.read_csv(\"risk_flow_data/origin_dest_trips_census_tract_level.csv\")\n",
    "od_trips_df"
   ]
  },
  {
   "cell_type": "code",
   "execution_count": 1,
   "metadata": {},
   "outputs": [
    {
     "ename": "NameError",
     "evalue": "name 'defaultdict' is not defined",
     "output_type": "error",
     "traceback": [
      "\u001b[0;31m---------------------------------------------------------------------------\u001b[0m",
      "\u001b[0;31mNameError\u001b[0m                                 Traceback (most recent call last)",
      "\u001b[0;32m<ipython-input-1-2afd82d4ec34>\u001b[0m in \u001b[0;36m<module>\u001b[0;34m\u001b[0m\n\u001b[0;32m----> 1\u001b[0;31m \u001b[0mod_dict\u001b[0m \u001b[0;34m=\u001b[0m \u001b[0mdefaultdict\u001b[0m\u001b[0;34m(\u001b[0m\u001b[0mint\u001b[0m\u001b[0;34m)\u001b[0m\u001b[0;34m\u001b[0m\u001b[0;34m\u001b[0m\u001b[0m\n\u001b[0m\u001b[1;32m      2\u001b[0m \u001b[0mnum_ct\u001b[0m \u001b[0;34m=\u001b[0m \u001b[0mod_trips_df\u001b[0m\u001b[0;34m.\u001b[0m\u001b[0mshape\u001b[0m\u001b[0;34m[\u001b[0m\u001b[0;36m0\u001b[0m\u001b[0;34m]\u001b[0m\u001b[0;34m\u001b[0m\u001b[0;34m\u001b[0m\u001b[0m\n\u001b[1;32m      3\u001b[0m \u001b[0;32mfor\u001b[0m \u001b[0mi\u001b[0m \u001b[0;32min\u001b[0m \u001b[0mrange\u001b[0m\u001b[0;34m(\u001b[0m\u001b[0mnum_ct\u001b[0m\u001b[0;34m)\u001b[0m\u001b[0;34m:\u001b[0m\u001b[0;34m\u001b[0m\u001b[0;34m\u001b[0m\u001b[0m\n\u001b[1;32m      4\u001b[0m     \u001b[0mfip\u001b[0m \u001b[0;34m=\u001b[0m \u001b[0mint\u001b[0m\u001b[0;34m(\u001b[0m\u001b[0mod_trips_df\u001b[0m\u001b[0;34m.\u001b[0m\u001b[0miloc\u001b[0m\u001b[0;34m[\u001b[0m\u001b[0mi\u001b[0m\u001b[0;34m,\u001b[0m\u001b[0;36m0\u001b[0m\u001b[0;34m]\u001b[0m\u001b[0;34m/\u001b[0m\u001b[0;36m10e5\u001b[0m\u001b[0;34m-\u001b[0m\u001b[0;36m17000\u001b[0m\u001b[0;34m)\u001b[0m\u001b[0;34m\u001b[0m\u001b[0;34m\u001b[0m\u001b[0m\n\u001b[1;32m      5\u001b[0m     \u001b[0mod_dict\u001b[0m\u001b[0;34m[\u001b[0m\u001b[0mfip\u001b[0m\u001b[0;34m]\u001b[0m\u001b[0;34m+=\u001b[0m \u001b[0mod_trips_df\u001b[0m\u001b[0;34m.\u001b[0m\u001b[0miloc\u001b[0m\u001b[0;34m[\u001b[0m\u001b[0mi\u001b[0m\u001b[0;34m,\u001b[0m\u001b[0;36m2\u001b[0m\u001b[0;34m]\u001b[0m\u001b[0;34m\u001b[0m\u001b[0;34m\u001b[0m\u001b[0m\n",
      "\u001b[0;31mNameError\u001b[0m: name 'defaultdict' is not defined"
     ]
    }
   ],
   "source": [
    "od_dict = defaultdict(int)\n",
    "num_ct = od_trips_df.shape[0]\n",
    "for i in range(num_ct):\n",
    "    fip = int(od_trips_df.iloc[i,0]/10e5-17000)\n",
    "    od_dict[fip]+= od_trips_df.iloc[i,2]     "
   ]
  },
  {
   "cell_type": "code",
   "execution_count": 3,
   "metadata": {},
   "outputs": [
    {
     "data": {
      "text/html": [
       "<div>\n",
       "<style scoped>\n",
       "    .dataframe tbody tr th:only-of-type {\n",
       "        vertical-align: middle;\n",
       "    }\n",
       "\n",
       "    .dataframe tbody tr th {\n",
       "        vertical-align: top;\n",
       "    }\n",
       "\n",
       "    .dataframe thead th {\n",
       "        text-align: right;\n",
       "    }\n",
       "</style>\n",
       "<table border=\"1\" class=\"dataframe\">\n",
       "  <thead>\n",
       "    <tr style=\"text-align: right;\">\n",
       "      <th></th>\n",
       "      <th>Origin.ID</th>\n",
       "      <th>Destination.ID</th>\n",
       "      <th>Traffic.V</th>\n",
       "    </tr>\n",
       "  </thead>\n",
       "  <tbody>\n",
       "    <tr>\n",
       "      <th>0</th>\n",
       "      <td>31</td>\n",
       "      <td>31</td>\n",
       "      <td>14936569</td>\n",
       "    </tr>\n",
       "    <tr>\n",
       "      <th>1</th>\n",
       "      <td>43</td>\n",
       "      <td>43</td>\n",
       "      <td>2462848</td>\n",
       "    </tr>\n",
       "    <tr>\n",
       "      <th>2</th>\n",
       "      <td>197</td>\n",
       "      <td>197</td>\n",
       "      <td>1952331</td>\n",
       "    </tr>\n",
       "    <tr>\n",
       "      <th>3</th>\n",
       "      <td>97</td>\n",
       "      <td>97</td>\n",
       "      <td>1852828</td>\n",
       "    </tr>\n",
       "    <tr>\n",
       "      <th>4</th>\n",
       "      <td>201</td>\n",
       "      <td>201</td>\n",
       "      <td>1091282</td>\n",
       "    </tr>\n",
       "    <tr>\n",
       "      <th>...</th>\n",
       "      <td>...</td>\n",
       "      <td>...</td>\n",
       "      <td>...</td>\n",
       "    </tr>\n",
       "    <tr>\n",
       "      <th>7148</th>\n",
       "      <td>93</td>\n",
       "      <td>187</td>\n",
       "      <td>0</td>\n",
       "    </tr>\n",
       "    <tr>\n",
       "      <th>7149</th>\n",
       "      <td>95</td>\n",
       "      <td>45</td>\n",
       "      <td>0</td>\n",
       "    </tr>\n",
       "    <tr>\n",
       "      <th>7150</th>\n",
       "      <td>97</td>\n",
       "      <td>193</td>\n",
       "      <td>0</td>\n",
       "    </tr>\n",
       "    <tr>\n",
       "      <th>7151</th>\n",
       "      <td>97</td>\n",
       "      <td>35</td>\n",
       "      <td>0</td>\n",
       "    </tr>\n",
       "    <tr>\n",
       "      <th>7152</th>\n",
       "      <td>99</td>\n",
       "      <td>169</td>\n",
       "      <td>0</td>\n",
       "    </tr>\n",
       "  </tbody>\n",
       "</table>\n",
       "<p>7153 rows × 3 columns</p>\n",
       "</div>"
      ],
      "text/plain": [
       "      Origin.ID  Destination.ID  Traffic.V\n",
       "0            31              31   14936569\n",
       "1            43              43    2462848\n",
       "2           197             197    1952331\n",
       "3            97              97    1852828\n",
       "4           201             201    1091282\n",
       "...         ...             ...        ...\n",
       "7148         93             187          0\n",
       "7149         95              45          0\n",
       "7150         97             193          0\n",
       "7151         97              35          0\n",
       "7152         99             169          0\n",
       "\n",
       "[7153 rows x 3 columns]"
      ]
     },
     "execution_count": 3,
     "metadata": {},
     "output_type": "execute_result"
    }
   ],
   "source": [
    "# read the street light data\n",
    "streetlight_trips_p3 = pd.read_csv(\"Streetlight_Data/streetlight_trips_p3.csv\")[['Origin.ID', 'Destination.ID', 'Traffic.V']]\n",
    "streetlight_trips_p3"
   ]
  },
  {
   "cell_type": "code",
   "execution_count": 11,
   "metadata": {},
   "outputs": [
    {
     "data": {
      "text/html": [
       "<div>\n",
       "<style scoped>\n",
       "    .dataframe tbody tr th:only-of-type {\n",
       "        vertical-align: middle;\n",
       "    }\n",
       "\n",
       "    .dataframe tbody tr th {\n",
       "        vertical-align: top;\n",
       "    }\n",
       "\n",
       "    .dataframe thead th {\n",
       "        text-align: right;\n",
       "    }\n",
       "</style>\n",
       "<table border=\"1\" class=\"dataframe\">\n",
       "  <thead>\n",
       "    <tr style=\"text-align: right;\">\n",
       "      <th></th>\n",
       "      <th>Origin.ID</th>\n",
       "      <th>Destination.ID</th>\n",
       "      <th>Traffic.V</th>\n",
       "    </tr>\n",
       "  </thead>\n",
       "  <tbody>\n",
       "    <tr>\n",
       "      <th>0</th>\n",
       "      <td>31</td>\n",
       "      <td>31</td>\n",
       "      <td>13744545</td>\n",
       "    </tr>\n",
       "    <tr>\n",
       "      <th>1</th>\n",
       "      <td>43</td>\n",
       "      <td>43</td>\n",
       "      <td>2403247</td>\n",
       "    </tr>\n",
       "    <tr>\n",
       "      <th>2</th>\n",
       "      <td>197</td>\n",
       "      <td>197</td>\n",
       "      <td>1813707</td>\n",
       "    </tr>\n",
       "    <tr>\n",
       "      <th>3</th>\n",
       "      <td>97</td>\n",
       "      <td>97</td>\n",
       "      <td>1767243</td>\n",
       "    </tr>\n",
       "    <tr>\n",
       "      <th>4</th>\n",
       "      <td>89</td>\n",
       "      <td>89</td>\n",
       "      <td>1026100</td>\n",
       "    </tr>\n",
       "    <tr>\n",
       "      <th>...</th>\n",
       "      <td>...</td>\n",
       "      <td>...</td>\n",
       "      <td>...</td>\n",
       "    </tr>\n",
       "    <tr>\n",
       "      <th>8755</th>\n",
       "      <td>99</td>\n",
       "      <td>185</td>\n",
       "      <td>0</td>\n",
       "    </tr>\n",
       "    <tr>\n",
       "      <th>8756</th>\n",
       "      <td>99</td>\n",
       "      <td>191</td>\n",
       "      <td>0</td>\n",
       "    </tr>\n",
       "    <tr>\n",
       "      <th>8757</th>\n",
       "      <td>99</td>\n",
       "      <td>3</td>\n",
       "      <td>0</td>\n",
       "    </tr>\n",
       "    <tr>\n",
       "      <th>8758</th>\n",
       "      <td>99</td>\n",
       "      <td>33</td>\n",
       "      <td>0</td>\n",
       "    </tr>\n",
       "    <tr>\n",
       "      <th>8759</th>\n",
       "      <td>99</td>\n",
       "      <td>61</td>\n",
       "      <td>0</td>\n",
       "    </tr>\n",
       "  </tbody>\n",
       "</table>\n",
       "<p>8760 rows × 3 columns</p>\n",
       "</div>"
      ],
      "text/plain": [
       "      Origin.ID  Destination.ID  Traffic.V\n",
       "0            31              31   13744545\n",
       "1            43              43    2403247\n",
       "2           197             197    1813707\n",
       "3            97              97    1767243\n",
       "4            89              89    1026100\n",
       "...         ...             ...        ...\n",
       "8755         99             185          0\n",
       "8756         99             191          0\n",
       "8757         99               3          0\n",
       "8758         99              33          0\n",
       "8759         99              61          0\n",
       "\n",
       "[8760 rows x 3 columns]"
      ]
     },
     "execution_count": 11,
     "metadata": {},
     "output_type": "execute_result"
    }
   ],
   "source": [
    "# read the street light data\n",
    "streetlight_trips_p4 = pd.read_csv(\"/Users/zhangyuqi/Documents/NCSA/Exposure_Risk_Analysis_in Rural_Illinois/Streetlight_Data/streetlight_trips_p4.csv\")[['Origin.ID', 'Destination.ID', 'Traffic.V']]\n",
    "streetlight_trips_p4"
   ]
  },
  {
   "cell_type": "code",
   "execution_count": null,
   "metadata": {},
   "outputs": [],
   "source": []
  },
  {
   "cell_type": "code",
   "execution_count": 25,
   "metadata": {},
   "outputs": [],
   "source": [
    "sl4_dict = defaultdict(float)\n",
    "num_ct = streetlight_trips_p4.shape[0]\n",
    "for i in range(num_ct):\n",
    "    fip = int(streetlight_trips_p4.iloc[i,0])\n",
    "    sl4_dict[fip]+= streetlight_trips_p4.iloc[i,2]     "
   ]
  },
  {
   "cell_type": "markdown",
   "metadata": {},
   "source": [
    "### Double Dictionary: (county level) number of trips from each origin to each dest"
   ]
  },
  {
   "cell_type": "code",
   "execution_count": 26,
   "metadata": {},
   "outputs": [],
   "source": [
    "#function to fo defaultdict(defaultdict(int))\n",
    "# when {} is empty, enable\n",
    "# df['a']['b']+=1\n",
    "def defaultdict_int():\n",
    "    return collections.defaultdict(int)"
   ]
  },
  {
   "cell_type": "code",
   "execution_count": 27,
   "metadata": {},
   "outputs": [],
   "source": [
    "# anuallly aggregated data \n",
    "# origin -> destination (county level) frequency dictionary\n",
    "od_od_dict = defaultdict(defaultdict_int)\n",
    "num_ct = od_trips_df.shape[0]\n",
    "for i in range(num_ct):\n",
    "    fip_o = int(od_trips_df.iloc[i,0]/10e5-17000)\n",
    "    fip_d = int(od_trips_df.iloc[i,1]/10e5-17000)\n",
    "    od_od_dict[fip_o][fip_d] += od_trips_df.iloc[i,2]"
   ]
  },
  {
   "cell_type": "code",
   "execution_count": 28,
   "metadata": {},
   "outputs": [],
   "source": [
    "# street light data \n",
    "# origin -> destination (county level) frequency dictionary\n",
    "sl4_od_dict = defaultdict(defaultdict_int)\n",
    "num_ct = streetlight_trips_p4.shape[0]\n",
    "for i in range(num_ct):\n",
    "    fip_o = int(streetlight_trips_p4.iloc[i,0])\n",
    "    fip_d = int(streetlight_trips_p4.iloc[i,1])\n",
    "    sl4_od_dict[fip_o][fip_d] += streetlight_trips_p4.iloc[i,2]"
   ]
  },
  {
   "cell_type": "markdown",
   "metadata": {},
   "source": [
    "### Update the number of trips in anually aggregated data according to the number of trips in street light data"
   ]
  },
  {
   "cell_type": "code",
   "execution_count": 30,
   "metadata": {},
   "outputs": [],
   "source": [
    "slod4_trips_df = od_trips_df.copy(deep=True)\n",
    "\n",
    "num_ct = od_trips_df.shape[0]\n",
    "for i in range(num_ct):\n",
    "    fip_o = int(od_trips_df.iloc[i,0]/10e5-17000)\n",
    "    fip_d = int(od_trips_df.iloc[i,1]/10e5-17000)\n",
    "    if od_od_dict[fip_o][fip_d] == 0:# if the denorminator is 0\n",
    "        multiplier = 0\n",
    "    else:\n",
    "        multiplier = sl4_od_dict[fip_o][fip_d]/od_od_dict[fip_o][fip_d]\n",
    "    slod4_trips_df.iloc[i,2] = multiplier*od_trips_df.iloc[i,2]"
   ]
  },
  {
   "cell_type": "code",
   "execution_count": 31,
   "metadata": {},
   "outputs": [
    {
     "data": {
      "text/html": [
       "<div>\n",
       "<style scoped>\n",
       "    .dataframe tbody tr th:only-of-type {\n",
       "        vertical-align: middle;\n",
       "    }\n",
       "\n",
       "    .dataframe tbody tr th {\n",
       "        vertical-align: top;\n",
       "    }\n",
       "\n",
       "    .dataframe thead th {\n",
       "        text-align: right;\n",
       "    }\n",
       "</style>\n",
       "<table border=\"1\" class=\"dataframe\">\n",
       "  <thead>\n",
       "    <tr style=\"text-align: right;\">\n",
       "      <th></th>\n",
       "      <th>RESIDENCE</th>\n",
       "      <th>WORKPLACE</th>\n",
       "      <th>JOBS</th>\n",
       "    </tr>\n",
       "  </thead>\n",
       "  <tbody>\n",
       "    <tr>\n",
       "      <th>0</th>\n",
       "      <td>17001000100</td>\n",
       "      <td>17001000100</td>\n",
       "      <td>4955.433246</td>\n",
       "    </tr>\n",
       "    <tr>\n",
       "      <th>1</th>\n",
       "      <td>17001000100</td>\n",
       "      <td>17001000201</td>\n",
       "      <td>427.807187</td>\n",
       "    </tr>\n",
       "    <tr>\n",
       "      <th>2</th>\n",
       "      <td>17001000100</td>\n",
       "      <td>17001000202</td>\n",
       "      <td>320.855390</td>\n",
       "    </tr>\n",
       "    <tr>\n",
       "      <th>3</th>\n",
       "      <td>17001000100</td>\n",
       "      <td>17001000400</td>\n",
       "      <td>356.505989</td>\n",
       "    </tr>\n",
       "    <tr>\n",
       "      <th>4</th>\n",
       "      <td>17001000100</td>\n",
       "      <td>17001000500</td>\n",
       "      <td>4242.421268</td>\n",
       "    </tr>\n",
       "    <tr>\n",
       "      <th>...</th>\n",
       "      <td>...</td>\n",
       "      <td>...</td>\n",
       "      <td>...</td>\n",
       "    </tr>\n",
       "    <tr>\n",
       "      <th>80423</th>\n",
       "      <td>17203030700</td>\n",
       "      <td>17113005102</td>\n",
       "      <td>47.255663</td>\n",
       "    </tr>\n",
       "    <tr>\n",
       "      <th>80424</th>\n",
       "      <td>17203030700</td>\n",
       "      <td>17143001600</td>\n",
       "      <td>35.376124</td>\n",
       "    </tr>\n",
       "    <tr>\n",
       "      <th>80425</th>\n",
       "      <td>17203030700</td>\n",
       "      <td>17179021201</td>\n",
       "      <td>152.861111</td>\n",
       "    </tr>\n",
       "    <tr>\n",
       "      <th>80426</th>\n",
       "      <td>17203030700</td>\n",
       "      <td>17203030601</td>\n",
       "      <td>469.589286</td>\n",
       "    </tr>\n",
       "    <tr>\n",
       "      <th>80427</th>\n",
       "      <td>17203030700</td>\n",
       "      <td>17203030700</td>\n",
       "      <td>7748.223214</td>\n",
       "    </tr>\n",
       "  </tbody>\n",
       "</table>\n",
       "<p>80428 rows × 3 columns</p>\n",
       "</div>"
      ],
      "text/plain": [
       "         RESIDENCE    WORKPLACE         JOBS\n",
       "0      17001000100  17001000100  4955.433246\n",
       "1      17001000100  17001000201   427.807187\n",
       "2      17001000100  17001000202   320.855390\n",
       "3      17001000100  17001000400   356.505989\n",
       "4      17001000100  17001000500  4242.421268\n",
       "...            ...          ...          ...\n",
       "80423  17203030700  17113005102    47.255663\n",
       "80424  17203030700  17143001600    35.376124\n",
       "80425  17203030700  17179021201   152.861111\n",
       "80426  17203030700  17203030601   469.589286\n",
       "80427  17203030700  17203030700  7748.223214\n",
       "\n",
       "[80428 rows x 3 columns]"
      ]
     },
     "execution_count": 31,
     "metadata": {},
     "output_type": "execute_result"
    }
   ],
   "source": [
    "slod4_trips_df "
   ]
  },
  {
   "cell_type": "code",
   "execution_count": 32,
   "metadata": {},
   "outputs": [],
   "source": [
    "slod4_trips_df.to_csv(\"Streetlight_Data/clean_data/streetlight_OD_p4.csv\")"
   ]
  },
  {
   "cell_type": "code",
   "execution_count": 22,
   "metadata": {},
   "outputs": [],
   "source": [
    "slod4_dict = defaultdict(int)\n",
    "num_ct = slod4_trips_df.shape[0]\n",
    "for i in range(num_ct):\n",
    "    fip = int(slod4_trips_df.iloc[i,0]/10e5-17000)\n",
    "    slod4_dict[fip]+= slod4_trips_df.iloc[i,2]  "
   ]
  },
  {
   "cell_type": "markdown",
   "metadata": {},
   "source": [
    "### Evaluation and EDA"
   ]
  },
  {
   "cell_type": "markdown",
   "metadata": {},
   "source": [
    "#### similarity between street light data and annual aggregated data"
   ]
  },
  {
   "cell_type": "code",
   "execution_count": 17,
   "metadata": {},
   "outputs": [
    {
     "data": {
      "text/plain": [
       "0.9998632317103496"
      ]
     },
     "execution_count": 17,
     "metadata": {},
     "output_type": "execute_result"
    }
   ],
   "source": [
    "num_ct = od_trips_df.shape[0]\n",
    "nu = 0\n",
    "de = 0\n",
    "for i in range(num_ct):\n",
    "    fip_o = int(od_trips_df.iloc[i,0]/10e5-17000)\n",
    "    fip_d = int(od_trips_df.iloc[i,1]/10e5-17000)\n",
    "    de += 1\n",
    "    if od_od_dict[fip_o][fip_d] != 0 and sl4_od_dict[fip_o][fip_d] != 0:\n",
    "        nu += 1\n",
    "nu/de"
   ]
  },
  {
   "cell_type": "markdown",
   "metadata": {},
   "source": [
    "#### Calculate the RMSE and the absolute error"
   ]
  },
  {
   "cell_type": "code",
   "execution_count": 18,
   "metadata": {},
   "outputs": [
    {
     "data": {
      "text/plain": [
       "2908.6405053120166"
      ]
     },
     "execution_count": 18,
     "metadata": {},
     "output_type": "execute_result"
    }
   ],
   "source": [
    "SSE = 0\n",
    "for fip in slod4_dict:\n",
    "    error = (slod4_dict[fip]-sl4_dict[fip])**2\n",
    "    SSE += error\n",
    "RMSE = math.sqrt(SSE/len(slod4_dict))\n",
    "RMSE"
   ]
  },
  {
   "cell_type": "code",
   "execution_count": 19,
   "metadata": {},
   "outputs": [],
   "source": [
    "sl4_mean = np.mean(list(sl4_dict.values()))"
   ]
  },
  {
   "cell_type": "code",
   "execution_count": 20,
   "metadata": {},
   "outputs": [
    {
     "data": {
      "text/plain": [
       "0.007418071076689271"
      ]
     },
     "execution_count": 20,
     "metadata": {},
     "output_type": "execute_result"
    }
   ],
   "source": [
    "RMSE/sl4_mean"
   ]
  },
  {
   "cell_type": "code",
   "execution_count": null,
   "metadata": {},
   "outputs": [],
   "source": []
  },
  {
   "cell_type": "markdown",
   "metadata": {},
   "source": [
    "### Repeat the process to het the streetlight trips for period 1, 2, 3"
   ]
  },
  {
   "cell_type": "code",
   "execution_count": 40,
   "metadata": {},
   "outputs": [],
   "source": [
    "def toStreetlightTrip(in_path, out_path):\n",
    "    # read the street light data\n",
    "    streetlight_trips_p = pd.read_csv(in_path)[['Origin.ID', 'Destination.ID', 'Traffic.V']]\n",
    "    # street light data \n",
    "    # origin -> destination (county level) frequency dictionary\n",
    "    sl_od_dict = defaultdict(defaultdict_int)\n",
    "    num_ct = streetlight_trips_p.shape[0]\n",
    "    for i in range(num_ct):\n",
    "        fip_o = int(streetlight_trips_p.iloc[i,0])\n",
    "        fip_d = int(streetlight_trips_p.iloc[i,1])\n",
    "        sl_od_dict[fip_o][fip_d] += streetlight_trips_p.iloc[i,2]\n",
    "\n",
    "    # Update the number of trips in anually aggregated data according to the number of trips in street light data\n",
    "    slod_trips_df = od_trips_df.copy(deep=True)\n",
    "    num_ct = od_trips_df.shape[0]\n",
    "    for i in range(num_ct):\n",
    "        fip_o = int(od_trips_df.iloc[i,0]/10e5-17000)\n",
    "        fip_d = int(od_trips_df.iloc[i,1]/10e5-17000)\n",
    "        if od_od_dict[fip_o][fip_d] == 0:# if the denorminator is 0\n",
    "            multiplier = 0\n",
    "        else:\n",
    "            multiplier = sl_od_dict[fip_o][fip_d]/od_od_dict[fip_o][fip_d]\n",
    "        slod_trips_df.iloc[i,2] = multiplier*od_trips_df.iloc[i,2]\n",
    "\n",
    "        # save the preprocesed data into csv file\n",
    "    slod_trips_df.to_csv(out_path)"
   ]
  },
  {
   "cell_type": "code",
   "execution_count": 41,
   "metadata": {},
   "outputs": [],
   "source": [
    "toStreetlightTrip(in_path = \"Streetlight_Data/streetlight_trips_p3.csv\",\n",
    "                  out_path = \"Streetlight_Data/clean_data/streetlight_OD_p3.csv\")"
   ]
  },
  {
   "cell_type": "code",
   "execution_count": 42,
   "metadata": {},
   "outputs": [],
   "source": [
    "toStreetlightTrip(in_path = \"Streetlight_Data/streetlight_trips_p2.csv\",\n",
    "                  out_path = \"Streetlight_Data/clean_data/streetlight_OD_p2.csv\")"
   ]
  },
  {
   "cell_type": "code",
   "execution_count": 43,
   "metadata": {},
   "outputs": [],
   "source": [
    "toStreetlightTrip(in_path = \"Streetlight_Data/streetlight_trips_p1.csv\",\n",
    "                  out_path = \"Streetlight_Data/clean_data/streetlight_OD_p1.csv\")"
   ]
  },
  {
   "cell_type": "code",
   "execution_count": null,
   "metadata": {},
   "outputs": [],
   "source": []
  }
 ],
 "metadata": {
  "kernelspec": {
   "display_name": "Python 3",
   "language": "python",
   "name": "python3"
  },
  "language_info": {
   "codemirror_mode": {
    "name": "ipython",
    "version": 3
   },
   "file_extension": ".py",
   "mimetype": "text/x-python",
   "name": "python",
   "nbconvert_exporter": "python",
   "pygments_lexer": "ipython3",
   "version": "3.7.7"
  }
 },
 "nbformat": 4,
 "nbformat_minor": 4
}
