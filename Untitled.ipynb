{
 "cells": [
  {
   "cell_type": "code",
   "execution_count": 2,
   "metadata": {},
   "outputs": [
    {
     "data": {
      "text/plain": [
       "0.0012"
      ]
     },
     "execution_count": 2,
     "metadata": {},
     "output_type": "execute_result"
    }
   ],
   "source": [
    "round(0.00122121,4)"
   ]
  },
  {
   "cell_type": "code",
   "execution_count": 3,
   "metadata": {},
   "outputs": [],
   "source": [
    "n = 2\n",
    "k = 1\n",
    "p = 0.5\n",
    "values = [n, k, p]\n",
    "n = values[0]\n",
    "k = values[1]\n",
    "p = values[2]\n",
    "\n",
    "prod = 1\n",
    "n_copy = n\n",
    "while n_copy > n-k+1:\n",
    "    prod *= n_copy\n",
    "    n_copy -= 1\n",
    "\n",
    "prob = round(p ** k * (1-p)**(n-k),6)*prod"
   ]
  },
  {
   "cell_type": "code",
   "execution_count": 4,
   "metadata": {},
   "outputs": [
    {
     "data": {
      "text/plain": [
       "0.25"
      ]
     },
     "execution_count": 4,
     "metadata": {},
     "output_type": "execute_result"
    }
   ],
   "source": [
    "prob "
   ]
  },
  {
   "cell_type": "code",
   "execution_count": 61,
   "metadata": {},
   "outputs": [],
   "source": [
    "n = 2\n",
    "k = 1\n",
    "p=0.5\n",
    "\n",
    "sum = 0\n",
    "k_copy = k\n",
    "while k_copy < n+1:\n",
    "    prod = 1\n",
    "    n_copy = n\n",
    "    k_copy2 = k\n",
    "    while k_copy2 > 0:\n",
    "        prod *= n_copy\n",
    "        n_copy -= 1\n",
    "        k_copy2 -= 1\n",
    "    sum += p ** k_copy * (1-p)**(n-k_copy)*prod\n",
    "    k_copy+= 1"
   ]
  },
  {
   "cell_type": "code",
   "execution_count": 62,
   "metadata": {},
   "outputs": [
    {
     "data": {
      "text/plain": [
       "1.0"
      ]
     },
     "execution_count": 62,
     "metadata": {},
     "output_type": "execute_result"
    }
   ],
   "source": [
    "sum"
   ]
  },
  {
   "cell_type": "code",
   "execution_count": 55,
   "metadata": {},
   "outputs": [
    {
     "data": {
      "text/plain": [
       "24"
      ]
     },
     "execution_count": 55,
     "metadata": {},
     "output_type": "execute_result"
    }
   ],
   "source": [
    "n = 4\n",
    "k = 3\n",
    "\n",
    "prod = 1\n",
    "n_copy = n\n",
    "k_copy = k\n",
    "while k_copy > 0:\n",
    "    prod *= n_copy\n",
    "    n_copy -= 1\n",
    "    k_copy -= 1\n",
    "\n",
    "prod"
   ]
  },
  {
   "cell_type": "code",
   "execution_count": null,
   "metadata": {},
   "outputs": [],
   "source": []
  },
  {
   "cell_type": "code",
   "execution_count": null,
   "metadata": {},
   "outputs": [],
   "source": []
  }
 ],
 "metadata": {
  "kernelspec": {
   "display_name": "Python 3",
   "language": "python",
   "name": "python3"
  },
  "language_info": {
   "codemirror_mode": {
    "name": "ipython",
    "version": 3
   },
   "file_extension": ".py",
   "mimetype": "text/x-python",
   "name": "python",
   "nbconvert_exporter": "python",
   "pygments_lexer": "ipython3",
   "version": "3.7.7"
  }
 },
 "nbformat": 4,
 "nbformat_minor": 4
}
