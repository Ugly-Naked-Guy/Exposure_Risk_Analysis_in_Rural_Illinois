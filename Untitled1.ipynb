{
 "cells": [
  {
   "cell_type": "code",
   "execution_count": 38,
   "metadata": {},
   "outputs": [],
   "source": [
    "m0 = 20\n",
    "w0 = 50\n",
    "\n",
    "def calc(input):\n",
    "    pointer = 0\n",
    "    m_list = [m0]\n",
    "    w_list = [w0]\n",
    "    if input[0] == \"A\":\n",
    "        m = input[1]\n",
    "        w = input[2]\n",
    "        m_list.append(m+m0)\n",
    "        w_list.append((m0*w0+m*w)/(m+m0))\n",
    "        pointer += 1\n",
    "    if input[0] == \"B\":\n",
    "        pointer -= 1\n",
    "    print(m_list[pointer], w_list[pointer])\n",
    "    print(m_list)"
   ]
  },
  {
   "cell_type": "code",
   "execution_count": 39,
   "metadata": {},
   "outputs": [
    {
     "name": "stdout",
     "output_type": "stream",
     "text": [
      "50 20.0\n",
      "[20, 50]\n"
     ]
    }
   ],
   "source": [
    "calc([\"A\",30,0])"
   ]
  },
  {
   "cell_type": "code",
   "execution_count": 40,
   "metadata": {},
   "outputs": [
    {
     "name": "stdout",
     "output_type": "stream",
     "text": [
      "20 50\n",
      "[20]\n"
     ]
    }
   ],
   "source": [
    "calc([\"B\"])"
   ]
  },
  {
   "cell_type": "code",
   "execution_count": 41,
   "metadata": {},
   "outputs": [
    {
     "name": "stdout",
     "output_type": "stream",
     "text": [
      "20 50\n",
      "[20]\n"
     ]
    }
   ],
   "source": [
    "calc([\"B\"])"
   ]
  },
  {
   "cell_type": "code",
   "execution_count": 42,
   "metadata": {},
   "outputs": [
    {
     "name": "stdout",
     "output_type": "stream",
     "text": [
      "100 21.2\n",
      "[20, 100]\n"
     ]
    }
   ],
   "source": [
    "calc([\"A\",80,14])"
   ]
  },
  {
   "cell_type": "code",
   "execution_count": 132,
   "metadata": {},
   "outputs": [],
   "source": [
    "m0 = 20\n",
    "w0 = 50\n",
    "\n",
    "pointer = [0]\n",
    "m_list = [m0]\n",
    "w_list = [w0]\n",
    "def calc(input):\n",
    "    if input[0] == \"A\":\n",
    "        m = input[1]\n",
    "        w = input[2]\n",
    "        m_list.append(m+m_list[pointer[0]])\n",
    "        w_list.append((m_list[pointer[0]]*w_list[pointer[0]]+m*w)/(m+m_list[pointer[0]]))  \n",
    "        pointer[0] += 1\n",
    "    if input[0] == \"B\" and pointer[0] > 0:\n",
    "        del(m_list[-1])\n",
    "        del(w_list[-1])\n",
    "        pointer[0] -= 1\n",
    "    print(m_list[pointer[0]], w_list[pointer[0]])\n",
    "    # print(pointer[0])\n",
    "   # print(m_list)"
   ]
  },
  {
   "cell_type": "code",
   "execution_count": 133,
   "metadata": {},
   "outputs": [
    {
     "name": "stdout",
     "output_type": "stream",
     "text": [
      "50 20.0\n",
      "20 50\n",
      "20 50\n",
      "100 21.2\n"
     ]
    }
   ],
   "source": [
    "calc([\"A\",30,0])\n",
    "calc([\"B\"])\n",
    "calc([\"B\"])\n",
    "calc([\"A\",80,14])"
   ]
  },
  {
   "cell_type": "code",
   "execution_count": 115,
   "metadata": {},
   "outputs": [
    {
     "ename": "IndexError",
     "evalue": "list index out of range",
     "output_type": "error",
     "traceback": [
      "\u001b[0;31m---------------------------------------------------------------------------\u001b[0m",
      "\u001b[0;31mIndexError\u001b[0m                                Traceback (most recent call last)",
      "\u001b[0;32m<ipython-input-115-93ba46ffc8c8>\u001b[0m in \u001b[0;36m<module>\u001b[0;34m\u001b[0m\n\u001b[0;32m----> 1\u001b[0;31m \u001b[0mcalc\u001b[0m\u001b[0;34m(\u001b[0m\u001b[0;34m[\u001b[0m\u001b[0;34m\"A\"\u001b[0m\u001b[0;34m,\u001b[0m\u001b[0;36m30\u001b[0m\u001b[0;34m,\u001b[0m\u001b[0;36m0\u001b[0m\u001b[0;34m]\u001b[0m\u001b[0;34m)\u001b[0m\u001b[0;34m\u001b[0m\u001b[0;34m\u001b[0m\u001b[0m\n\u001b[0m\u001b[1;32m      2\u001b[0m \u001b[0mcalc\u001b[0m\u001b[0;34m(\u001b[0m\u001b[0;34m[\u001b[0m\u001b[0;34m\"B\"\u001b[0m\u001b[0;34m]\u001b[0m\u001b[0;34m)\u001b[0m\u001b[0;34m\u001b[0m\u001b[0;34m\u001b[0m\u001b[0m\n\u001b[1;32m      3\u001b[0m \u001b[0mcalc\u001b[0m\u001b[0;34m(\u001b[0m\u001b[0;34m[\u001b[0m\u001b[0;34m\"B\"\u001b[0m\u001b[0;34m]\u001b[0m\u001b[0;34m)\u001b[0m\u001b[0;34m\u001b[0m\u001b[0;34m\u001b[0m\u001b[0m\n\u001b[1;32m      4\u001b[0m \u001b[0mcalc\u001b[0m\u001b[0;34m(\u001b[0m\u001b[0;34m[\u001b[0m\u001b[0;34m\"A\"\u001b[0m\u001b[0;34m,\u001b[0m\u001b[0;36m80\u001b[0m\u001b[0;34m,\u001b[0m\u001b[0;36m14\u001b[0m\u001b[0;34m]\u001b[0m\u001b[0;34m)\u001b[0m\u001b[0;34m\u001b[0m\u001b[0;34m\u001b[0m\u001b[0m\n",
      "\u001b[0;32m<ipython-input-113-ed2e0298f4e2>\u001b[0m in \u001b[0;36mcalc\u001b[0;34m(input)\u001b[0m\n\u001b[1;32m      9\u001b[0m         \u001b[0mm\u001b[0m \u001b[0;34m=\u001b[0m \u001b[0minput\u001b[0m\u001b[0;34m[\u001b[0m\u001b[0;36m1\u001b[0m\u001b[0;34m]\u001b[0m\u001b[0;34m\u001b[0m\u001b[0;34m\u001b[0m\u001b[0m\n\u001b[1;32m     10\u001b[0m         \u001b[0mw\u001b[0m \u001b[0;34m=\u001b[0m \u001b[0minput\u001b[0m\u001b[0;34m[\u001b[0m\u001b[0;36m2\u001b[0m\u001b[0;34m]\u001b[0m\u001b[0;34m\u001b[0m\u001b[0;34m\u001b[0m\u001b[0m\n\u001b[0;32m---> 11\u001b[0;31m         \u001b[0mm_list\u001b[0m\u001b[0;34m.\u001b[0m\u001b[0mappend\u001b[0m\u001b[0;34m(\u001b[0m\u001b[0mm\u001b[0m\u001b[0;34m+\u001b[0m\u001b[0mm_list\u001b[0m\u001b[0;34m[\u001b[0m\u001b[0mpointer\u001b[0m\u001b[0;34m[\u001b[0m\u001b[0;36m0\u001b[0m\u001b[0;34m]\u001b[0m\u001b[0;34m]\u001b[0m\u001b[0;34m)\u001b[0m\u001b[0;34m\u001b[0m\u001b[0;34m\u001b[0m\u001b[0m\n\u001b[0m\u001b[1;32m     12\u001b[0m         \u001b[0mw_list\u001b[0m\u001b[0;34m.\u001b[0m\u001b[0mappend\u001b[0m\u001b[0;34m(\u001b[0m\u001b[0;34m(\u001b[0m\u001b[0mm_list\u001b[0m\u001b[0;34m[\u001b[0m\u001b[0mpointer\u001b[0m\u001b[0;34m[\u001b[0m\u001b[0;36m0\u001b[0m\u001b[0;34m]\u001b[0m\u001b[0;34m]\u001b[0m\u001b[0;34m*\u001b[0m\u001b[0mw_list\u001b[0m\u001b[0;34m[\u001b[0m\u001b[0mpointer\u001b[0m\u001b[0;34m[\u001b[0m\u001b[0;36m0\u001b[0m\u001b[0;34m]\u001b[0m\u001b[0;34m]\u001b[0m\u001b[0;34m+\u001b[0m\u001b[0mm\u001b[0m\u001b[0;34m*\u001b[0m\u001b[0mw\u001b[0m\u001b[0;34m)\u001b[0m\u001b[0;34m/\u001b[0m\u001b[0;34m(\u001b[0m\u001b[0mm\u001b[0m\u001b[0;34m+\u001b[0m\u001b[0mm_list\u001b[0m\u001b[0;34m[\u001b[0m\u001b[0mpointer\u001b[0m\u001b[0;34m[\u001b[0m\u001b[0;36m0\u001b[0m\u001b[0;34m]\u001b[0m\u001b[0;34m]\u001b[0m\u001b[0;34m)\u001b[0m\u001b[0;34m)\u001b[0m\u001b[0;34m\u001b[0m\u001b[0;34m\u001b[0m\u001b[0m\n\u001b[1;32m     13\u001b[0m         \u001b[0mpointer\u001b[0m\u001b[0;34m[\u001b[0m\u001b[0;36m0\u001b[0m\u001b[0;34m]\u001b[0m \u001b[0;34m+=\u001b[0m \u001b[0;36m1\u001b[0m\u001b[0;34m\u001b[0m\u001b[0;34m\u001b[0m\u001b[0m\n",
      "\u001b[0;31mIndexError\u001b[0m: list index out of range"
     ]
    }
   ],
   "source": [
    "calc([\"A\",30,0])\n",
    "calc([\"B\"])\n",
    "calc([\"B\"])\n",
    "calc([\"A\",80,14])"
   ]
  },
  {
   "cell_type": "code",
   "execution_count": 130,
   "metadata": {},
   "outputs": [],
   "source": [
    "m0 = 20\n",
    "w0 = 50\n",
    "\n",
    "m_list = [m0]\n",
    "w_list = [w0]\n",
    "def calc(input):\n",
    "    if input[0] == \"A\":\n",
    "        m = input[1]\n",
    "        w = input[2]\n",
    "        m_list.append(m+m_list[-1])\n",
    "        w_list.append((m_list[-1]*w_list[-1]+m*w)/(m+m_list[-1]))  \n",
    "    if input[0] == \"B\" and pointer[0] > 0:\n",
    "        del(m_list[-1])\n",
    "        del(w_list[-1])\n",
    "    print(m_list[-1], w_list[-1])\n",
    "    # print(pointer[0])\n",
    "   # print(m_list)"
   ]
  },
  {
   "cell_type": "code",
   "execution_count": 131,
   "metadata": {},
   "outputs": [
    {
     "name": "stdout",
     "output_type": "stream",
     "text": [
      "50 31.25\n",
      "20 50\n"
     ]
    },
    {
     "ename": "IndexError",
     "evalue": "list index out of range",
     "output_type": "error",
     "traceback": [
      "\u001b[0;31m---------------------------------------------------------------------------\u001b[0m",
      "\u001b[0;31mIndexError\u001b[0m                                Traceback (most recent call last)",
      "\u001b[0;32m<ipython-input-131-93ba46ffc8c8>\u001b[0m in \u001b[0;36m<module>\u001b[0;34m\u001b[0m\n\u001b[1;32m      1\u001b[0m \u001b[0mcalc\u001b[0m\u001b[0;34m(\u001b[0m\u001b[0;34m[\u001b[0m\u001b[0;34m\"A\"\u001b[0m\u001b[0;34m,\u001b[0m\u001b[0;36m30\u001b[0m\u001b[0;34m,\u001b[0m\u001b[0;36m0\u001b[0m\u001b[0;34m]\u001b[0m\u001b[0;34m)\u001b[0m\u001b[0;34m\u001b[0m\u001b[0;34m\u001b[0m\u001b[0m\n\u001b[1;32m      2\u001b[0m \u001b[0mcalc\u001b[0m\u001b[0;34m(\u001b[0m\u001b[0;34m[\u001b[0m\u001b[0;34m\"B\"\u001b[0m\u001b[0;34m]\u001b[0m\u001b[0;34m)\u001b[0m\u001b[0;34m\u001b[0m\u001b[0;34m\u001b[0m\u001b[0m\n\u001b[0;32m----> 3\u001b[0;31m \u001b[0mcalc\u001b[0m\u001b[0;34m(\u001b[0m\u001b[0;34m[\u001b[0m\u001b[0;34m\"B\"\u001b[0m\u001b[0;34m]\u001b[0m\u001b[0;34m)\u001b[0m\u001b[0;34m\u001b[0m\u001b[0;34m\u001b[0m\u001b[0m\n\u001b[0m\u001b[1;32m      4\u001b[0m \u001b[0mcalc\u001b[0m\u001b[0;34m(\u001b[0m\u001b[0;34m[\u001b[0m\u001b[0;34m\"A\"\u001b[0m\u001b[0;34m,\u001b[0m\u001b[0;36m80\u001b[0m\u001b[0;34m,\u001b[0m\u001b[0;36m14\u001b[0m\u001b[0;34m]\u001b[0m\u001b[0;34m)\u001b[0m\u001b[0;34m\u001b[0m\u001b[0;34m\u001b[0m\u001b[0m\n",
      "\u001b[0;32m<ipython-input-130-c47c5f84eb6b>\u001b[0m in \u001b[0;36mcalc\u001b[0;34m(input)\u001b[0m\n\u001b[1;32m     13\u001b[0m         \u001b[0;32mdel\u001b[0m\u001b[0;34m(\u001b[0m\u001b[0mm_list\u001b[0m\u001b[0;34m[\u001b[0m\u001b[0;34m-\u001b[0m\u001b[0;36m1\u001b[0m\u001b[0;34m]\u001b[0m\u001b[0;34m)\u001b[0m\u001b[0;34m\u001b[0m\u001b[0;34m\u001b[0m\u001b[0m\n\u001b[1;32m     14\u001b[0m         \u001b[0;32mdel\u001b[0m\u001b[0;34m(\u001b[0m\u001b[0mw_list\u001b[0m\u001b[0;34m[\u001b[0m\u001b[0;34m-\u001b[0m\u001b[0;36m1\u001b[0m\u001b[0;34m]\u001b[0m\u001b[0;34m)\u001b[0m\u001b[0;34m\u001b[0m\u001b[0;34m\u001b[0m\u001b[0m\n\u001b[0;32m---> 15\u001b[0;31m     \u001b[0mprint\u001b[0m\u001b[0;34m(\u001b[0m\u001b[0mm_list\u001b[0m\u001b[0;34m[\u001b[0m\u001b[0;34m-\u001b[0m\u001b[0;36m1\u001b[0m\u001b[0;34m]\u001b[0m\u001b[0;34m,\u001b[0m \u001b[0mw_list\u001b[0m\u001b[0;34m[\u001b[0m\u001b[0;34m-\u001b[0m\u001b[0;36m1\u001b[0m\u001b[0;34m]\u001b[0m\u001b[0;34m)\u001b[0m\u001b[0;34m\u001b[0m\u001b[0;34m\u001b[0m\u001b[0m\n\u001b[0m\u001b[1;32m     16\u001b[0m     \u001b[0;31m# print(pointer[0])\u001b[0m\u001b[0;34m\u001b[0m\u001b[0;34m\u001b[0m\u001b[0;34m\u001b[0m\u001b[0m\n\u001b[1;32m     17\u001b[0m    \u001b[0;31m# print(m_list)\u001b[0m\u001b[0;34m\u001b[0m\u001b[0;34m\u001b[0m\u001b[0;34m\u001b[0m\u001b[0m\n",
      "\u001b[0;31mIndexError\u001b[0m: list index out of range"
     ]
    }
   ],
   "source": [
    "calc([\"A\",30,0])\n",
    "calc([\"B\"])\n",
    "calc([\"B\"])\n",
    "calc([\"A\",80,14])"
   ]
  },
  {
   "cell_type": "code",
   "execution_count": 141,
   "metadata": {},
   "outputs": [
    {
     "data": {
      "text/plain": [
       "0"
      ]
     },
     "execution_count": 141,
     "metadata": {},
     "output_type": "execute_result"
    }
   ],
   "source": [
    "round(1,-4)"
   ]
  },
  {
   "cell_type": "code",
   "execution_count": 143,
   "metadata": {},
   "outputs": [
    {
     "name": "stdout",
     "output_type": "stream",
     "text": [
      "{1: 2, 2: 1, 3: 3, 4: 2, 5: 1}\n"
     ]
    }
   ],
   "source": [
    "list = [1, 1, 2, 3, 3, 4, 3, 4, 5]\n",
    "num_dict = {}\n",
    "for num in list:\n",
    "    if num not in num_dict:\n",
    "        num_dict[num] = 1\n",
    "    else:\n",
    "        num_dict[num] += 1\n",
    "count = 0\n",
    "for key in num_dict:\n",
    "    if num_dict[key] > 1:\n",
    "        count += 1\n",
    "print(num_dict)"
   ]
  },
  {
   "cell_type": "code",
   "execution_count": 129,
   "metadata": {},
   "outputs": [],
   "source": [
    "timestamp_list = [0, 20, 50, 60]\n",
    "n = 4"
   ]
  },
  {
   "cell_type": "code",
   "execution_count": 130,
   "metadata": {},
   "outputs": [],
   "source": [
    "money_list = []\n",
    "sum = [0]\n",
    "def Money(timestamp):\n",
    "    if timestamp == 0:\n",
    "        money = 20\n",
    "    elif timestamp < 100:\n",
    "        if 50-sum[0] > 20:\n",
    "            money = 20\n",
    "        else:\n",
    "            money = 50-sum[0]\n",
    "    elif timestamp < 1000:\n",
    "        if 100-sum[0] > 20:\n",
    "            money = 20\n",
    "    else:\n",
    "            money = 100-sum[0]\n",
    "    sum[0] += money\n",
    "    money_list.append(money)\n",
    "    return money_list"
   ]
  },
  {
   "cell_type": "code",
   "execution_count": 131,
   "metadata": {},
   "outputs": [
    {
     "name": "stdout",
     "output_type": "stream",
     "text": [
      "20\n",
      "20\n",
      "10\n",
      "0\n"
     ]
    }
   ],
   "source": [
    "for i in range(n):\n",
    "    timestamp = timestamp_list[i]\n",
    "  #  print(\"timestamp\", timestamp)\n",
    "    output = Money(timestamp)[i]\n",
    "    print(output)"
   ]
  },
  {
   "cell_type": "code",
   "execution_count": null,
   "metadata": {},
   "outputs": [],
   "source": []
  },
  {
   "cell_type": "code",
   "execution_count": null,
   "metadata": {},
   "outputs": [],
   "source": [
    "money_list = []\n",
    "sum = [0]\n",
    "def Money(timestamp):\n",
    "    if timestamp == 0:\n",
    "        money = 20\n",
    "        money_list.append(money)\n",
    "    elif timestamp < 100:\n",
    "        if 50-sum[0] > 20:\n",
    "            money = 20\n",
    "        else:\n",
    "            money = 50-sum[0]\n",
    "    elif timestamp < 1000:\n",
    "        if 100-sum[0] > 20:\n",
    "            money = 20\n",
    "        else:\n",
    "            money = 100-sum[0]\n",
    "    sum[0] += money\n",
    "    money_list.append(money)\n",
    "    return money_list"
   ]
  },
  {
   "cell_type": "code",
   "execution_count": null,
   "metadata": {},
   "outputs": [],
   "source": [
    "# 5"
   ]
  },
  {
   "cell_type": "code",
   "execution_count": 102,
   "metadata": {},
   "outputs": [],
   "source": [
    "my_list = [3,6,9]\n",
    "win_list = [9,5,7]"
   ]
  },
  {
   "cell_type": "code",
   "execution_count": 103,
   "metadata": {},
   "outputs": [],
   "source": [
    "win_dict = {}\n",
    "output_list = []\n",
    "sum = [0]\n",
    "for num in win_list:\n",
    "    if num not in win_dict:\n",
    "        win_dict[num] = 1\n",
    "for num in my_list:\n",
    "    if num in win_dict:\n",
    "        output_list.append(num)\n",
    "        sum[0] += num                     "
   ]
  },
  {
   "cell_type": "code",
   "execution_count": 104,
   "metadata": {},
   "outputs": [
    {
     "data": {
      "text/plain": [
       "[9]"
      ]
     },
     "execution_count": 104,
     "metadata": {},
     "output_type": "execute_result"
    }
   ],
   "source": [
    "output_list"
   ]
  },
  {
   "cell_type": "code",
   "execution_count": 105,
   "metadata": {},
   "outputs": [
    {
     "data": {
      "text/plain": [
       "9"
      ]
     },
     "execution_count": 105,
     "metadata": {},
     "output_type": "execute_result"
    }
   ],
   "source": [
    "sum[0]"
   ]
  },
  {
   "cell_type": "code",
   "execution_count": 132,
   "metadata": {},
   "outputs": [
    {
     "name": "stdout",
     "output_type": "stream",
     "text": [
      "Collecting package metadata (current_repodata.json): done\n",
      "Solving environment: done\n",
      "\n",
      "## Package Plan ##\n",
      "\n",
      "  environment location: /opt/anaconda3\n",
      "\n",
      "  added / updated specs:\n",
      "    - googletrans\n",
      "\n",
      "\n",
      "The following packages will be downloaded:\n",
      "\n",
      "    package                    |            build\n",
      "    ---------------------------|-----------------\n",
      "    ca-certificates-2021.1.19  |       hecd8cb5_1         118 KB\n",
      "    certifi-2020.12.5          |   py37hecd8cb5_0         140 KB\n",
      "    conda-4.9.2                |   py37hecd8cb5_0         2.9 MB\n",
      "    googletrans-2.4.0          |          py_1001          17 KB  conda-forge\n",
      "    openssl-1.1.1j             |       h9ed2024_0         2.2 MB\n",
      "    ------------------------------------------------------------\n",
      "                                           Total:         5.3 MB\n",
      "\n",
      "The following NEW packages will be INSTALLED:\n",
      "\n",
      "  googletrans        conda-forge/noarch::googletrans-2.4.0-py_1001\n",
      "\n",
      "The following packages will be UPDATED:\n",
      "\n",
      "  ca-certificates                              2020.10.14-0 --> 2021.1.19-hecd8cb5_1\n",
      "  certifi                          2020.6.20-py37hecd8cb5_2 --> 2020.12.5-py37hecd8cb5_0\n",
      "  conda                                4.9.1-py37hecd8cb5_0 --> 4.9.2-py37hecd8cb5_0\n",
      "  openssl                                 1.1.1h-haf1e3a3_0 --> 1.1.1j-h9ed2024_0\n",
      "\n",
      "\n",
      "Proceed ([y]/n)? ^C\n",
      "\n",
      "CondaSystemExit: \n",
      "Operation aborted.  Exiting.\n",
      "\n"
     ]
    }
   ],
   "source": [
    "!conda install googletrans"
   ]
  },
  {
   "cell_type": "code",
   "execution_count": 133,
   "metadata": {},
   "outputs": [
    {
     "ename": "NameError",
     "evalue": "name 'y' is not defined",
     "output_type": "error",
     "traceback": [
      "\u001b[0;31m---------------------------------------------------------------------------\u001b[0m",
      "\u001b[0;31mNameError\u001b[0m                                 Traceback (most recent call last)",
      "\u001b[0;32m<ipython-input-133-9063a9f0e032>\u001b[0m in \u001b[0;36m<module>\u001b[0;34m\u001b[0m\n\u001b[0;32m----> 1\u001b[0;31m \u001b[0my\u001b[0m\u001b[0;34m\u001b[0m\u001b[0;34m\u001b[0m\u001b[0m\n\u001b[0m",
      "\u001b[0;31mNameError\u001b[0m: name 'y' is not defined"
     ]
    }
   ],
   "source": [
    "y"
   ]
  },
  {
   "cell_type": "code",
   "execution_count": 134,
   "metadata": {},
   "outputs": [],
   "source": [
    "i =1"
   ]
  },
  {
   "cell_type": "code",
   "execution_count": 185,
   "metadata": {},
   "outputs": [],
   "source": [
    "import random\n",
    "import matplotlib.pyplot as plt\n",
    "\n",
    "times = 500\n",
    "X = []\n",
    "for i in range(times):\n",
    "    x = random.randint(0,1)\n",
    "    X.append(x)"
   ]
  },
  {
   "cell_type": "code",
   "execution_count": 190,
   "metadata": {},
   "outputs": [
    {
     "data": {
      "text/plain": [
       "[<matplotlib.lines.Line2D at 0x7fc3e19cb3d0>]"
      ]
     },
     "execution_count": 190,
     "metadata": {},
     "output_type": "execute_result"
    },
    {
     "data": {
      "image/png": "[encoded data removed]",
      "text/plain": [
       "<Figure size 432x288 with 1 Axes>"
      ]
     },
     "metadata": {
      "needs_background": "light"
     },
     "output_type": "display_data"
    }
   ],
   "source": [
    "money_list = [0]*times\n",
    "for i in range(times):\n",
    "    if i == 0:\n",
    "        money_list[i] = 100\n",
    "    elif i > 0:\n",
    "        way = X[i]\n",
    "        if way == 1:\n",
    "            money_list[i] = money_list[i-1] * 0.9\n",
    "        elif way == 0:\n",
    "            money_list[i] = money_list[i-1] * 1.11\n",
    "            \n",
    "plt.plot(range(times), money_list)"
   ]
  },
  {
   "cell_type": "code",
   "execution_count": null,
   "metadata": {},
   "outputs": [],
   "source": [
    "\n",
    "\n"
   ]
  },
  {
   "cell_type": "code",
   "execution_count": 461,
   "metadata": {},
   "outputs": [],
   "source": [
    "string = \"C200000H1111\"\n",
    "chon_map = {\"C\":0, \"H\":0, \"O\":0, \"N\":0}\n",
    "weight_map = {\"C\":12, \"H\":1, \"O\":16, \"N\":14}"
   ]
  },
  {
   "cell_type": "code",
   "execution_count": 462,
   "metadata": {},
   "outputs": [],
   "source": [
    "py = 0\n",
    "pw = 0\n",
    "\n",
    "if string != \"\":\n",
    "    while py < len(string)-1:\n",
    "        if string[py] in chon_map:\n",
    "            pw = py + 1\n",
    "            if string[pw] not in chon_map:\n",
    "               # print(start)\n",
    "                start = pw\n",
    "                while  pw <= len(string)-1 and string[pw] not in chon_map:\n",
    "                    pw += 1\n",
    "                end = pw-1\n",
    "#                 print(end)\n",
    "                num = int(string[start:end+1])\n",
    "                chon_map[string[py]] += num\n",
    "                py = end+1\n",
    "            elif string[pw] in chon_map:\n",
    "                num = 1\n",
    "                chon_map[string[py]] += num\n",
    "                py = pw\n",
    "    if string[-1] in chon_map:\n",
    "        chon_map[string[-1]] += 1\n",
    "#     if string[-1] not in chon_map:\n",
    "#         chon_map[string[-2]] += int(string[-1])"
   ]
  },
  {
   "cell_type": "code",
   "execution_count": 463,
   "metadata": {},
   "outputs": [
    {
     "name": "stdout",
     "output_type": "stream",
     "text": [
      "{'C': 200000, 'H': 1111, 'O': 0, 'N': 0}\n"
     ]
    }
   ],
   "source": [
    "print(chon_map)"
   ]
  },
  {
   "cell_type": "code",
   "execution_count": 457,
   "metadata": {},
   "outputs": [
    {
     "name": "stdout",
     "output_type": "stream",
     "text": [
      "2400001\n"
     ]
    }
   ],
   "source": [
    "# 根据元素数量字节，计算相对分子量并输出    \n",
    "weight = 0\n",
    "for item in chon_map:\n",
    "    weight += chon_map[item] * weight_map[item]\n",
    "print(weight)"
   ]
  },
  {
   "cell_type": "code",
   "execution_count": 450,
   "metadata": {},
   "outputs": [
    {
     "data": {
      "text/plain": [
       "'2'"
      ]
     },
     "execution_count": 450,
     "metadata": {},
     "output_type": "execute_result"
    }
   ],
   "source": [
    "string[1:2]"
   ]
  },
  {
   "cell_type": "markdown",
   "metadata": {},
   "source": [
    "## 1、冒泡排序（Bubble Sort）\n",
    "\n",
    "冒泡排序 是一种简单的排序算法。它重复地走访过要排序的数列，一次比较两个元素，如果它们的顺序错误就把它们交换过来。走访数列的工作是重复地进行直到没有再需要交换，也就是说该数列已经排序完成。这个算法的名字由来是因为越小的元素会经由交换慢慢“浮”到数列的顶端。\n",
    "\n",
    "算法分析\n",
    "- 最佳情况：T(n) = O(n)\n",
    "- 最差情况：T(n) = O(n2)\n",
    "- 平均情况：T(n) = O(n2)"
   ]
  },
  {
   "cell_type": "code",
   "execution_count": 481,
   "metadata": {},
   "outputs": [],
   "source": [
    "def BubbleSort(list):\n",
    "    if list == []:\n",
    "        return list\n",
    "    # 针对所有的元素重复以下的步骤，除了最后一个；\n",
    "    for j in range(len(list)-1):\n",
    "        # 对每一对相邻元素作同样的工作，从开始第一对到结尾的最后一对，\n",
    "        # 这样在最后的元素应该会是最大的数；\n",
    "        for i in range(len(list)-1):\n",
    "            # 比较相邻的元素。如果第一个比第二个大，就交换它们两个；\n",
    "            if list[i] > list[i+1]:\n",
    "                list[i], list[i+1] = list[i+1], list[i]\n",
    "    return list"
   ]
  },
  {
   "cell_type": "code",
   "execution_count": 482,
   "metadata": {},
   "outputs": [
    {
     "data": {
      "text/plain": [
       "[1, 2, 3, 4, 4]"
      ]
     },
     "execution_count": 482,
     "metadata": {},
     "output_type": "execute_result"
    }
   ],
   "source": [
    "BubbleSort([1,3,2,4,4])"
   ]
  },
  {
   "cell_type": "code",
   "execution_count": null,
   "metadata": {},
   "outputs": [],
   "source": []
  }
 ],
 "metadata": {
  "kernelspec": {
   "display_name": "Python 3",
   "language": "python",
   "name": "python3"
  },
  "language_info": {
   "codemirror_mode": {
    "name": "ipython",
    "version": 3
   },
   "file_extension": ".py",
   "mimetype": "text/x-python",
   "name": "python",
   "nbconvert_exporter": "python",
   "pygments_lexer": "ipython3",
   "version": "3.7.7"
  }
 },
 "nbformat": 4,
 "nbformat_minor": 4
}
